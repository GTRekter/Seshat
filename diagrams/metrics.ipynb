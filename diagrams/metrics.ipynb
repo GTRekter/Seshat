{
 "cells": [
  {
   "cell_type": "markdown",
   "metadata": {},
   "source": [
    "# 📈 Metrics Analysis Notebook\n",
    "\n",
    "This notebook analyzes **CPU** and **Memory** resource usage during performance experiments using Fortio and a service mesh (Istio or Linkerd). It reads resource usage data exported in CSV format from the Kubernetes metrics API and generates visualizations per container.\n",
    "\n",
    "## 🧪 Experiments Covered\n",
    "\n",
    "1. **01 - HTTP Max Throughput**\n",
    "    - Measures max throughput with default Fortio settings.\n",
    "    - Generates average CPU and memory usage per container.\n",
    "\n",
    "2. **02 - HTTP Constant Throughput**\n",
    "    - Uses constant QPS values: 1, 1000, and 10000.\n",
    "    - Shows how resource usage changes with increasing load.\n",
    "\n",
    "3. **03 - HTTP Payload Variation**\n",
    "    - Fixed QPS (100) with payload sizes: 0, 1000, and 10000 bytes.\n",
    "    - Compares container resource usage with different payload sizes.\n",
    "\n",
    "## 📁 Expected Input\n",
    "\n",
    "- CSV files under `../results/<experiment>/metrics_<mesh>_<qps>_<payload>_<timestamp>.csv`\n",
    "- Structure:\n",
    "    - `timestamp, namespace, pod, container, cpu(n), memory(Ki)`\n",
    "    - Plus derived fields: `cpu` (as float), `memory` (as float)\n",
    "\n",
    "## 📉 Output\n",
    "\n",
    "- CPU and Memory bar charts per container for each experiment setup.\n",
    "- Output PNGs are saved in:\n",
    "    - `../diagrams/<experiment>/cpu_*.png`\n",
    "    - `../diagrams/<experiment>/memory_*.png`\n",
    "\n",
    "> 📌 **Note**: CPU values are shown in nanocores, and memory in Ki."
   ]
  },
  {
   "cell_type": "code",
   "execution_count": 3,
   "metadata": {},
   "outputs": [],
   "source": [
    "# %% [code] Import required libraries\n",
    "import os\n",
    "import glob\n",
    "import pandas as pd\n",
    "import matplotlib.pyplot as plt\n",
    "\n",
    "# Use a default matplotlib style\n",
    "plt.style.use('default')"
   ]
  },
  {
   "cell_type": "code",
   "execution_count": 5,
   "metadata": {},
   "outputs": [],
   "source": [
    "def convert_cpu(cpu_str):\n",
    "    \"\"\"\n",
    "    Convert CPU usage strings to millicores (m).\n",
    "\n",
    "    Conversions:\n",
    "      - '123n' → nanocores → 0.000123 m\n",
    "      - '123u' → microcores → 0.123 m\n",
    "      - '123m' → millicores → 123.0 m\n",
    "      - '123'  → cores     → 123000.0 m\n",
    "    \"\"\"\n",
    "    try:\n",
    "        s = cpu_str.lower().strip()\n",
    "        if s.endswith('n'):\n",
    "            value = float(s[:-1])\n",
    "            return value / 1e6\n",
    "        elif s.endswith('u'):\n",
    "            value = float(s[:-1])\n",
    "            return value / 1e3\n",
    "        elif s.endswith('m'):\n",
    "            return float(s[:-1])\n",
    "        else:\n",
    "            value = float(s)\n",
    "            return value * 1000.0\n",
    "    except Exception as e:\n",
    "        print(f\"Error converting CPU value '{cpu_str}': {e}\")\n",
    "        return None\n",
    "\n",
    "def convert_memory(mem_str):\n",
    "    \"\"\"\n",
    "    Convert memory usage from a string (which might be in Ki, Mi, or Gi) to a float representing megabytes (MB).\n",
    "    \n",
    "    Conversions:\n",
    "    - If the value ends with \"Ki\": MB = (numeric value) / 1024.\n",
    "    - If the value ends with \"Mi\": MB = numeric value.\n",
    "    - If the value ends with \"Gi\": MB = (numeric value) * 1024.\n",
    "    - If no known suffix, attempt direct conversion.\n",
    "    \"\"\"\n",
    "    try:\n",
    "        if mem_str.endswith(\"Ki\"):\n",
    "            value = float(mem_str[:-2])\n",
    "            mb = value / 1024.0\n",
    "            return mb\n",
    "        elif mem_str.endswith(\"Mi\"):\n",
    "            value = float(mem_str[:-2])\n",
    "            # Assuming 1 MiB is reported as 1 MB\n",
    "            return value\n",
    "        elif mem_str.endswith(\"Gi\"):\n",
    "            value = float(mem_str[:-2])\n",
    "            return value * 1024.0\n",
    "        else:\n",
    "            # If no unit present, try converting directly\n",
    "            return float(mem_str)\n",
    "    except Exception as e:\n",
    "        print(f\"Error converting memory value '{mem_str}': {e}\")\n",
    "        return None\n"
   ]
  },
  {
   "cell_type": "code",
   "execution_count": 6,
   "metadata": {},
   "outputs": [],
   "source": [
    "def load_metrics_csv(file_path):\n",
    "    \"\"\"\n",
    "    Reads a CSV file with resource metrics, parses the timestamp, and converts the raw CPU\n",
    "    (nanocores remain unchanged) and memory values (in Ki).\n",
    "    \n",
    "    Returns:\n",
    "        A pandas DataFrame with columns:\n",
    "        - timestamp\n",
    "        - namespace\n",
    "        - pod\n",
    "        - container\n",
    "        - cpu(n) (original)\n",
    "        - memory(Ki) (original)\n",
    "        - cpu: numeric CPU in millicore\n",
    "        - memory: numeric memory in MB\n",
    "    \"\"\"\n",
    "    df = pd.read_csv(file_path)\n",
    "    df['timestamp'] = pd.to_datetime(df['timestamp'])\n",
    "    df['cpu'] = df['cpu(n)'].apply(convert_cpu)\n",
    "    df['memory'] = df['memory(Ki)'].apply(convert_memory)\n",
    "    return df\n",
    "\n",
    "def extract_mesh_qps_payload(filename):\n",
    "    \"\"\"\n",
    "    Extract mesh, qps, and payload from a filename assumed to be formatted as:\n",
    "      metrics_<mesh>_<qps>_<payload>_<timestamp>.csv\n",
    "    Returns a tuple: (mesh (str), qps (int), payload (int))\n",
    "    \"\"\"\n",
    "    base = os.path.basename(filename)\n",
    "    parts = base.replace(\"metrics_\", \"\").replace(\".csv\", \"\").split(\"_\")\n",
    "    if len(parts) < 3:\n",
    "        return None, None, None\n",
    "    mesh, qps, payload = parts[0], parts[1], parts[2]\n",
    "    return mesh, int(qps), int(payload)\n",
    "\n",
    "def shorten_label(ns, pod, container, max_len=18):\n",
    "    \"\"\"\n",
    "    Shortens the namespace, pod, and container names to a maximum length.\n",
    "    If the name exceeds max_len, it truncates the string and appends '..'.\n",
    "    Returns a formatted string: \"ns/pod/container\".\n",
    "    \"\"\"\n",
    "    ns_abbr = ns if len(ns) <= max_len else ns[:max_len - 2] + '..'\n",
    "    pod_abbr = pod if len(pod) <= max_len else pod[:max_len - 2] + '..'\n",
    "    container_abbr = container if len(container) <= max_len else container[:max_len - 2] + '..'\n",
    "    return f\"{ns_abbr}/{pod_abbr}/{container_abbr}\""
   ]
  },
  {
   "cell_type": "code",
   "execution_count": 8,
   "metadata": {},
   "outputs": [
    {
     "data": {
      "text/plain": [
       "<Figure size 1500x1000 with 0 Axes>"
      ]
     },
     "metadata": {},
     "output_type": "display_data"
    },
    {
     "data": {
      "text/plain": [
       "<Figure size 1500x1000 with 0 Axes>"
      ]
     },
     "metadata": {},
     "output_type": "display_data"
    }
   ],
   "source": [
    "# HTTP Max throughput experiment (experiment 1).\n",
    "experiment_pattern = os.path.join(\"..\", \"results\", \"*\", \"01_http_max_throughput\", \"metrics_*.csv\")\n",
    "output_dir         = os.path.join(\"..\", \"diagrams\", \"01_http_max_throughput\")\n",
    "csv_files          = glob.glob(experiment_pattern)\n",
    "os.makedirs(output_dir, exist_ok=True)\n",
    "\n",
    "if not csv_files:\n",
    "    print(\"No CSV files found in:\", experiment_pattern)\n",
    "else:\n",
    "    df_list   = [load_metrics_csv(file) for file in csv_files]\n",
    "    df_exp    = pd.concat(df_list, ignore_index=True)\n",
    "    df_exp    = df_exp.dropna(subset=['cpu', 'memory'])\n",
    "    df_cp     = df_exp[df_exp['group'] == 'control-plane'].copy()\n",
    "    df_dp     = df_exp[df_exp['group'] == 'data-plane'].copy()\n",
    "    agg_stats = df_exp.groupby(['namespace', 'pod', 'container'])[['cpu', 'memory']].agg(['mean', 'median', 'std'])\n",
    "\n",
    "    for metric, ylabel in [('cpu', \"CPU Usage (millicore)\"), ('memory', \"Memory Usage (MB)\")]:\n",
    "        metric_title = \"CPU\" if metric == \"cpu\" else \"Memory\"\n",
    "\n",
    "        # --- Global Max Plot (aggregated over all repetitions) ---\n",
    "        max_global = df_exp.groupby(['namespace', 'pod', 'container'])[metric].max()\n",
    "        labels_global = [shorten_label(ns, pod, c) for ns, pod, c in max_global.index]\n",
    "        max_global.index = labels_global    \n",
    "        plt.figure(figsize=(15, 10))\n",
    "        max_global.plot(kind='bar', color='tab:orange')\n",
    "        plt.title(f\"Experiment 1: Max Throughput\\n(Prot=HTTP, Metric={metric_title})\")\n",
    "        plt.ylabel(ylabel)\n",
    "        plt.xticks(rotation=45, ha='right')\n",
    "        plt.tight_layout()\n",
    "        plt.savefig(os.path.join(output_dir, f\"metrics_{metric}_0.png\"))\n",
    "        plt.close()\n",
    "\n",
    "        # --- Control Plane Stacked Plot ---\n",
    "        agg_cp = df_cp.groupby(['namespace', 'pod', 'container'])[metric].max().reset_index()\n",
    "        cp_pivot = agg_cp.pivot_table(index=['namespace', 'pod'], columns='container', values=metric, fill_value=0)\n",
    "        plt.figure(figsize=(15, 10))\n",
    "        cp_pivot.plot(kind='bar', stacked=True)\n",
    "        plt.title(f\"Experiment 1: Max Throughput\\n(Prot=HTTP, Metric={metric_title}), Control Plane\")\n",
    "        plt.ylabel(ylabel)\n",
    "        plt.legend(loc='best', fontsize='small', ncol=4)\n",
    "        plt.xticks(rotation=45, ha='right', fontsize=6)\n",
    "        plt.tight_layout()\n",
    "        plt.savefig(os.path.join(output_dir, f\"metrics_control_plane_{metric}_0.png\"))\n",
    "        plt.close()\n",
    "\n",
    "        # --- Data Plane Plot ---\n",
    "        max_dp = df_dp.groupby(['namespace', 'pod', 'container'])[metric].max()\n",
    "        labels_dp = [shorten_label(ns, pod, c) for ns, pod, c in max_dp.index]\n",
    "        max_dp.index = labels_dp\n",
    "        plt.figure(figsize=(15, 10))\n",
    "        max_dp.plot(kind='bar', color='tab:orange')\n",
    "        plt.title(f\"Experiment 1: Max Throughput\\n(Prot=HTTP, Metric={metric_title}), Data Plane\")\n",
    "        plt.ylabel(ylabel)\n",
    "        plt.xticks(rotation=45, ha='right')\n",
    "        plt.tight_layout()\n",
    "        plt.savefig(os.path.join(output_dir, f\"metrics_data_plane_{metric}_0.png\"))\n",
    "        plt.close()"
   ]
  },
  {
   "cell_type": "code",
   "execution_count": 9,
   "metadata": {},
   "outputs": [
    {
     "data": {
      "text/plain": [
       "<Figure size 1500x1000 with 0 Axes>"
      ]
     },
     "metadata": {},
     "output_type": "display_data"
    },
    {
     "data": {
      "text/plain": [
       "<Figure size 1500x1000 with 0 Axes>"
      ]
     },
     "metadata": {},
     "output_type": "display_data"
    }
   ],
   "source": [
    "# gRPC Max throughput experiment (experiment 2).\n",
    "experiment_pattern = os.path.join(\"..\", \"results\", \"*\", \"01_http_max_throughput\", \"metrics_*.csv\")\n",
    "output_dir         = os.path.join(\"..\", \"diagrams\", \"01_http_max_throughput\")\n",
    "csv_files          = glob.glob(experiment_pattern)\n",
    "os.makedirs(output_dir, exist_ok=True)\n",
    "\n",
    "if not csv_files:\n",
    "    print(\"No CSV files found in:\", experiment_pattern)\n",
    "else:\n",
    "    # load all repetitions' CSVs and concatenate\n",
    "    df_list = [load_metrics_csv(file) for file in csv_files]\n",
    "    df_exp  = pd.concat(df_list, ignore_index=True)\n",
    "    df_exp  = df_exp.dropna(subset=['cpu', 'memory'])\n",
    "    df_cp   = df_exp[df_exp['group'] == 'control-plane'].copy()\n",
    "    df_dp   = df_exp[df_exp['group'] == 'data-plane'].copy()\n",
    "    agg_stats = df_exp.groupby(['namespace', 'pod', 'container'])[['cpu', 'memory']].agg(['mean', 'median', 'std'])\n",
    "\n",
    "    for metric, ylabel in [('cpu', \"CPU Usage (millicore)\"), ('memory', \"Memory Usage (MB)\")]:\n",
    "        metric_title = \"CPU\" if metric == \"cpu\" else \"Memory\"\n",
    "\n",
    "        # --- Global Max Plot (aggregated over all repetitions) ---\n",
    "        max_global = df_exp.groupby(['namespace', 'pod', 'container'])[metric].max()\n",
    "        labels_global = [shorten_label(ns, pod, c) for ns, pod, c in max_global.index]\n",
    "        max_global.index = labels_global    \n",
    "        plt.figure(figsize=(15, 10))\n",
    "        max_global.plot(kind='bar', color='tab:orange')\n",
    "        plt.title(f\"Experiment 1: Max Throughput\\n(Prot=HTTP, Metric={metric_title})\")\n",
    "        plt.ylabel(ylabel)\n",
    "        plt.xticks(rotation=45, ha='right')\n",
    "        plt.tight_layout()\n",
    "        plt.savefig(os.path.join(output_dir, f\"metrics_{metric}_0.png\"))\n",
    "        plt.close()\n",
    "\n",
    "        # --- Control Plane Stacked Plot ---\n",
    "        agg_cp = df_cp.groupby(['namespace', 'pod', 'container'])[metric].max().reset_index()\n",
    "        cp_pivot = agg_cp.pivot_table(index=['namespace', 'pod'], columns='container', values=metric, fill_value=0)\n",
    "        plt.figure(figsize=(15, 10))\n",
    "        cp_pivot.plot(kind='bar', stacked=True)\n",
    "        plt.title(f\"Experiment 1: Max Throughput\\n(Prot=HTTP, Metric={metric_title}), Control Plane\")\n",
    "        plt.ylabel(ylabel)\n",
    "        plt.legend(loc='best', fontsize='small', ncol=4)\n",
    "        plt.xticks(rotation=45, ha='right', fontsize=6)\n",
    "        plt.tight_layout()\n",
    "        plt.savefig(os.path.join(output_dir, f\"metrics_control_plane_{metric}_0.png\"))\n",
    "        plt.close()\n",
    "\n",
    "        # --- Data Plane Plot ---\n",
    "        max_dp = df_dp.groupby(['namespace', 'pod', 'container'])[metric].max()\n",
    "        labels_dp = [shorten_label(ns, pod, c) for ns, pod, c in max_dp.index]\n",
    "        max_dp.index = labels_dp\n",
    "        plt.figure(figsize=(15, 10))\n",
    "        max_dp.plot(kind='bar', color='tab:orange')\n",
    "        plt.title(f\"Experiment 1: Max Throughput\\n(Prot=HTTP, Metric={metric_title}), Data Plane\")\n",
    "        plt.ylabel(ylabel)\n",
    "        plt.xticks(rotation=45, ha='right')\n",
    "        plt.tight_layout()\n",
    "        plt.savefig(os.path.join(output_dir, f\"metrics_data_plane_{metric}_0.png\"))\n",
    "        plt.close()"
   ]
  },
  {
   "cell_type": "code",
   "execution_count": 10,
   "metadata": {},
   "outputs": [
    {
     "data": {
      "text/plain": [
       "<Figure size 1500x1000 with 0 Axes>"
      ]
     },
     "metadata": {},
     "output_type": "display_data"
    },
    {
     "data": {
      "text/plain": [
       "<Figure size 1500x1000 with 0 Axes>"
      ]
     },
     "metadata": {},
     "output_type": "display_data"
    },
    {
     "data": {
      "text/plain": [
       "<Figure size 1500x1000 with 0 Axes>"
      ]
     },
     "metadata": {},
     "output_type": "display_data"
    },
    {
     "data": {
      "text/plain": [
       "<Figure size 1500x1000 with 0 Axes>"
      ]
     },
     "metadata": {},
     "output_type": "display_data"
    },
    {
     "data": {
      "text/plain": [
       "<Figure size 1500x1000 with 0 Axes>"
      ]
     },
     "metadata": {},
     "output_type": "display_data"
    },
    {
     "data": {
      "text/plain": [
       "<Figure size 1500x1000 with 0 Axes>"
      ]
     },
     "metadata": {},
     "output_type": "display_data"
    },
    {
     "data": {
      "text/plain": [
       "<Figure size 1500x1000 with 0 Axes>"
      ]
     },
     "metadata": {},
     "output_type": "display_data"
    },
    {
     "data": {
      "text/plain": [
       "<Figure size 1500x1000 with 0 Axes>"
      ]
     },
     "metadata": {},
     "output_type": "display_data"
    }
   ],
   "source": [
    "# HTTP Constant throughput experiment (experiment 3)\n",
    "results_pattern = os.path.join(\"..\", \"results\", \"*\", \"03_http_constant_throughput\", \"metrics_*.csv\")\n",
    "output_dir      = os.path.join(\"..\", \"diagrams\", \"03_http_constant_throughput\")\n",
    "csv_files       = glob.glob(results_pattern)\n",
    "os.makedirs(output_dir, exist_ok=True)\n",
    "\n",
    "if not csv_files:\n",
    "    print(\"No CSV files found in:\", results_pattern)\n",
    "else:\n",
    "    df_list = []\n",
    "    for file in csv_files:\n",
    "        df = load_metrics_csv(file)\n",
    "        _, qps, _ = extract_mesh_qps_payload(file)\n",
    "        df['qps'] = qps\n",
    "        df_list.append(df)\n",
    "    df_exp = pd.concat(df_list, ignore_index=True)\n",
    "    df_exp = df_exp.dropna(subset=['cpu', 'memory', 'qps'])\n",
    "    unique_qps = sorted(df_exp['qps'].unique())\n",
    "\n",
    "    for qps_val in unique_qps:\n",
    "        df_qps    = df_exp[df_exp['qps'] == qps_val]\n",
    "        df_qps_cp = df_qps[df_qps['group'] == 'control-plane']\n",
    "        df_qps_dp = df_qps[df_qps['group'] == 'data-plane']\n",
    "\n",
    "        for metric, ylabel in [('cpu', \"CPU Usage (millicore)\"), ('memory', \"Memory Usage (MB)\")]:\n",
    "            metric_title = \"CPU\" if metric == \"cpu\" else \"Memory\"\n",
    "\n",
    "            # --- Global Plot ---\n",
    "            max_global = df_qps.groupby(['namespace', 'pod', 'container'])[metric].max()\n",
    "            labels_global = [shorten_label(ns, pod, c) for ns, pod, c in max_global.index]\n",
    "            max_global.index = labels_global    \n",
    "            plt.figure(figsize=(15, 10))\n",
    "            max_global.plot(kind='bar', color='tab:orange')\n",
    "            plt.title(f\"Experiment 3: Constant Throughput\\n(Prot=HTTP, QPS={qps_val}, Metric={metric_title})\")\n",
    "            plt.ylabel(ylabel)\n",
    "            plt.xlabel(\"Container\")\n",
    "            plt.xticks(rotation=45, ha='right')\n",
    "            plt.tight_layout()\n",
    "            plt.savefig(os.path.join(output_dir, f\"metrics_{metric}_{qps_val}.png\"))\n",
    "            plt.close()\n",
    "\n",
    "            # --- Control Plane Stacked Plot ---\n",
    "            agg_cp = df_qps_cp.groupby(['namespace', 'pod', 'container'])[metric].max().reset_index()\n",
    "            cp_pivot = agg_cp.pivot_table(index=['namespace', 'pod'], columns='container', values=metric, fill_value=0)\n",
    "            plt.figure(figsize=(15, 10))\n",
    "            cp_pivot.plot(kind='bar', stacked=True)\n",
    "            plt.title(f\"Experiment 3: Constant Throughput\\n(Prot=HTTP, QPS={qps_val}, Metric={metric_title}, Control Plane)\")\n",
    "            plt.ylabel(ylabel)\n",
    "            plt.xlabel(\"Container\")\n",
    "            plt.legend(loc='best', fontsize='small', ncol=4)\n",
    "            plt.xticks(rotation=45, ha='right', fontsize=6)\n",
    "            plt.tight_layout()\n",
    "            plt.savefig(os.path.join(output_dir, f\"metrics_control_plane_{metric}_{qps_val}.png\"))\n",
    "            plt.close()\n",
    "\n",
    "            # --- Data Plane Plot ---\n",
    "            max_dp = df_qps_dp.groupby(['namespace', 'pod', 'container'])[metric].max()\n",
    "            labels_dp = [shorten_label(ns, pod, c) for ns, pod, c in max_dp.index]\n",
    "            max_dp.index = labels_dp\n",
    "            plt.figure(figsize=(15, 10))\n",
    "            max_dp.plot(kind='bar', color='tab:orange')\n",
    "            plt.title(f\"Experiment 3: Constant Throughput\\n(Prot=HTTP, QPS={qps_val}, Metric={metric_title}, Data Plane)\")\n",
    "            plt.ylabel(ylabel)\n",
    "            plt.xlabel(\"Container\")\n",
    "            plt.xticks(rotation=45, ha='right')\n",
    "            plt.tight_layout()\n",
    "            plt.savefig(os.path.join(output_dir, f\"metrics_data_plane_{metric}_{qps_val}.png\"))\n",
    "            plt.close()"
   ]
  },
  {
   "cell_type": "code",
   "execution_count": 11,
   "metadata": {},
   "outputs": [
    {
     "data": {
      "text/plain": [
       "<Figure size 1500x1000 with 0 Axes>"
      ]
     },
     "metadata": {},
     "output_type": "display_data"
    },
    {
     "data": {
      "text/plain": [
       "<Figure size 1500x1000 with 0 Axes>"
      ]
     },
     "metadata": {},
     "output_type": "display_data"
    },
    {
     "data": {
      "text/plain": [
       "<Figure size 1500x1000 with 0 Axes>"
      ]
     },
     "metadata": {},
     "output_type": "display_data"
    },
    {
     "data": {
      "text/plain": [
       "<Figure size 1500x1000 with 0 Axes>"
      ]
     },
     "metadata": {},
     "output_type": "display_data"
    },
    {
     "data": {
      "text/plain": [
       "<Figure size 1500x1000 with 0 Axes>"
      ]
     },
     "metadata": {},
     "output_type": "display_data"
    },
    {
     "data": {
      "text/plain": [
       "<Figure size 1500x1000 with 0 Axes>"
      ]
     },
     "metadata": {},
     "output_type": "display_data"
    },
    {
     "data": {
      "text/plain": [
       "<Figure size 1500x1000 with 0 Axes>"
      ]
     },
     "metadata": {},
     "output_type": "display_data"
    },
    {
     "data": {
      "text/plain": [
       "<Figure size 1500x1000 with 0 Axes>"
      ]
     },
     "metadata": {},
     "output_type": "display_data"
    }
   ],
   "source": [
    "# gRPC Constant throughput experiment (experiment 4)\n",
    "results_pattern = os.path.join(\"..\", \"results\", \"*\", \"04_grpc_constant_throughput\", \"metrics_*.csv\")\n",
    "output_dir      = os.path.join(\"..\", \"diagrams\", \"04_grpc_constant_throughput\")\n",
    "csv_files       = glob.glob(results_pattern)\n",
    "os.makedirs(output_dir, exist_ok=True)\n",
    "\n",
    "if not csv_files:\n",
    "    print(\"No CSV files found in:\", results_pattern)\n",
    "else:\n",
    "    df_list = []\n",
    "    for file in csv_files:\n",
    "        df = load_metrics_csv(file)\n",
    "        _, qps, _ = extract_mesh_qps_payload(file)\n",
    "        df['qps'] = qps\n",
    "        df_list.append(df)\n",
    "    df_exp = pd.concat(df_list, ignore_index=True)\n",
    "    df_exp = df_exp.dropna(subset=['cpu', 'memory', 'qps'])\n",
    "    unique_qps = sorted(df_exp['qps'].unique())\n",
    "    for qps_val in unique_qps:\n",
    "        df_qps    = df_exp[df_exp['qps'] == qps_val]\n",
    "        df_qps_cp = df_qps[df_qps['group'] == 'control-plane']\n",
    "        df_qps_dp = df_qps[df_qps['group'] == 'data-plane']\n",
    "\n",
    "        for metric, ylabel in [('cpu', \"CPU Usage (millicore)\"), ('memory', \"Memory Usage (MB)\")]:\n",
    "            metric_title = \"CPU\" if metric == \"cpu\" else \"Memory\"\n",
    "\n",
    "            # --- Global Plot ---\n",
    "            max_global = df_qps.groupby(['namespace', 'pod', 'container'])[metric].max()\n",
    "            labels_global = [shorten_label(ns, pod, c) for ns, pod, c in max_global.index]\n",
    "            max_global.index = labels_global    \n",
    "            plt.figure(figsize=(15, 10))\n",
    "            max_global.plot(kind='bar', color='tab:orange')\n",
    "            plt.title(f\"Experiment 4: Constant Throughput\\n(Prot=gRPC, QPS={qps_val}, Metric={metric_title})\")\n",
    "            plt.ylabel(ylabel)\n",
    "            plt.xlabel(\"Container\")\n",
    "            plt.xticks(rotation=45, ha='right')\n",
    "            plt.tight_layout()\n",
    "            plt.savefig(os.path.join(output_dir, f\"metrics_{metric}_{qps_val}.png\"))\n",
    "            plt.close()\n",
    "\n",
    "            # --- Control Plane Stacked Plot ---\n",
    "            agg_cp = df_qps_cp.groupby(['namespace', 'pod', 'container'])[metric].max().reset_index()\n",
    "            cp_pivot = agg_cp.pivot_table(index=['namespace', 'pod'], columns='container', values=metric, fill_value=0)\n",
    "            plt.figure(figsize=(15, 10))\n",
    "            cp_pivot.plot(kind='bar', stacked=True)\n",
    "            plt.title(f\"Experiment 4: Constant Throughput\\n(Prot=gRPC, QPS={qps_val}, Metric={metric_title}, Control Plane)\")\n",
    "            plt.ylabel(ylabel)\n",
    "            plt.xlabel(\"Container\")\n",
    "            plt.legend(loc='best', fontsize='small', ncol=4)\n",
    "            plt.xticks(rotation=45, ha='right', fontsize=6)\n",
    "            plt.tight_layout()\n",
    "            plt.savefig(os.path.join(output_dir, f\"metrics_control_plane_{metric}_{qps_val}.png\"))\n",
    "            plt.close()\n",
    "            \n",
    "            # --- Data Plane Plot ---\n",
    "            max_dp = df_qps_dp.groupby(['namespace', 'pod', 'container'])[metric].max()\n",
    "            labels_dp = [shorten_label(ns, pod, c) for ns, pod, c in max_dp.index]\n",
    "            max_dp.index = labels_dp\n",
    "            plt.figure(figsize=(15, 10))\n",
    "            max_dp.plot(kind='bar', color='tab:orange')\n",
    "            plt.title(f\"Experiment 4: Constant Throughput\\n(Prot=gRPC, QPS={qps_val}, Metric={metric_title}, Data Plane)\")\n",
    "            plt.ylabel(ylabel)\n",
    "            plt.xlabel(\"Container\")\n",
    "            plt.xticks(rotation=45, ha='right')\n",
    "            plt.tight_layout()\n",
    "            plt.savefig(os.path.join(output_dir, f\"metrics_data_plane_{metric}_{qps_val}.png\"))\n",
    "            plt.close()\n"
   ]
  },
  {
   "cell_type": "code",
   "execution_count": 12,
   "metadata": {},
   "outputs": [
    {
     "data": {
      "text/plain": [
       "<Figure size 1500x1000 with 0 Axes>"
      ]
     },
     "metadata": {},
     "output_type": "display_data"
    },
    {
     "data": {
      "text/plain": [
       "<Figure size 1500x1000 with 0 Axes>"
      ]
     },
     "metadata": {},
     "output_type": "display_data"
    },
    {
     "data": {
      "text/plain": [
       "<Figure size 1500x1000 with 0 Axes>"
      ]
     },
     "metadata": {},
     "output_type": "display_data"
    },
    {
     "data": {
      "text/plain": [
       "<Figure size 1500x1000 with 0 Axes>"
      ]
     },
     "metadata": {},
     "output_type": "display_data"
    }
   ],
   "source": [
    "# HTTP Constant throughput with Payload experiment (experiment 5)\n",
    "results_pattern = os.path.join(\"..\", \"results\", \"*\", \"05_http_payload\", \"metrics_*.csv\")\n",
    "output_dir      = os.path.join(\"..\", \"diagrams\", \"05_http_payload\")\n",
    "csv_files       = glob.glob(results_pattern)\n",
    "os.makedirs(output_dir, exist_ok=True)\n",
    "\n",
    "if not csv_files:\n",
    "    print(\"No CSV files found in:\", results_pattern)\n",
    "else:\n",
    "    df_list = []\n",
    "    for file in csv_files:\n",
    "        df = load_metrics_csv(file)\n",
    "        mesh, qps, payload = extract_mesh_qps_payload(file)\n",
    "        df['mesh']    = mesh\n",
    "        df['qps']     = qps\n",
    "        df['payload'] = payload\n",
    "        df_list.append(df)\n",
    "    df_exp = pd.concat(df_list, ignore_index=True)\n",
    "\n",
    "    # Identify unique QPS and payload values\n",
    "    unique_qps     = sorted(df_exp['qps'].dropna().unique())\n",
    "    unique_payload = sorted(df_exp['payload'].dropna().unique())\n",
    "    qps_val        = unique_qps[0] if unique_qps else None\n",
    "\n",
    "    for payload_val in unique_payload:\n",
    "        df_subset   = df_exp[df_exp['payload'] == payload_val]\n",
    "        df_subset_cp = df_subset[df_subset['group'] == 'control-plane']\n",
    "        df_subset_dp = df_subset[df_subset['group'] == 'data-plane']\n",
    "\n",
    "        for metric, ylabel in [('cpu', \"CPU Usage (millicore)\"), ('memory', \"Memory Usage (MB)\")]:\n",
    "            metric_title = \"CPU\" if metric == \"cpu\" else \"Memory\"\n",
    "\n",
    "            # --- Global Plot ---\n",
    "            max_global = df_subset.groupby(['namespace', 'pod', 'container'])[metric].max()\n",
    "            labels_global = [shorten_label(ns, pod, c) for ns, pod, c in max_global.index]\n",
    "            max_global.index = labels_global    \n",
    "            plt.figure(figsize=(15, 10))\n",
    "            max_global.plot(kind='bar', color='tab:orange')\n",
    "            plt.title(f\"Experiment 5: Constant Throughput\\n(Prot=HTTP, QPS={qps_val}, Payload={payload_val}, Metric={metric_title})\")\n",
    "            plt.ylabel(ylabel)\n",
    "            plt.xlabel(\"Container\")\n",
    "            plt.xticks(rotation=45, ha='right')\n",
    "            plt.tight_layout()\n",
    "            plt.savefig(os.path.join(output_dir, f\"metrics_{metric}_{qps_val}_{payload_val}.png\"))\n",
    "            plt.close()\n",
    "\n",
    "            # --- Control Plane Stacked Plot ---\n",
    "            agg_cp = df_subset_cp.groupby(['namespace', 'pod', 'container'])[metric].max().reset_index()\n",
    "            cp_pivot = agg_cp.pivot_table(index=['namespace', 'pod'], columns='container', values=metric, fill_value=0)\n",
    "            plt.figure(figsize=(15, 10))\n",
    "            cp_pivot.plot(kind='bar', stacked=True)\n",
    "            plt.title(f\"Experiment 5: Constant Throughput\\n(Prot=HTTP, QPS={qps_val}, Payload={payload_val}, Metric={metric_title}, Control Plane)\")\n",
    "            plt.ylabel(ylabel)\n",
    "            plt.xlabel(\"Container\")\n",
    "            plt.legend(loc='best', fontsize='small', ncol=4)\n",
    "            plt.xticks(rotation=45, ha='right', fontsize=6)\n",
    "            plt.tight_layout()\n",
    "            plt.savefig(os.path.join(output_dir, f\"metrics_control_plane_{metric}_{qps_val}_{payload_val}.png\"))\n",
    "            plt.close()\n",
    "\n",
    "            # --- Data Plane Plot ---\n",
    "            max_dp = df_subset_dp.groupby(['namespace', 'pod', 'container'])[metric].max()\n",
    "            labels_dp = [shorten_label(ns, pod, c) for ns, pod, c in max_dp.index]\n",
    "            max_dp.index = labels_dp\n",
    "            plt.figure(figsize=(15, 10))\n",
    "            max_dp.plot(kind='bar', color='tab:orange')\n",
    "            plt.title(f\"Experiment 5: Constant Throughput\\n(Prot=HTTP, QPS={qps_val}, Payload={payload_val}, Metric={metric_title}, Data Plane)\")\n",
    "            plt.ylabel(ylabel)\n",
    "            plt.xlabel(\"Container\")\n",
    "            plt.xticks(rotation=45, ha='right')\n",
    "            plt.tight_layout()\n",
    "            plt.savefig(os.path.join(output_dir, f\"metrics_data_plane_{metric}_{qps_val}_{payload_val}.png\"))\n",
    "            plt.close()"
   ]
  },
  {
   "cell_type": "code",
   "execution_count": 13,
   "metadata": {},
   "outputs": [
    {
     "data": {
      "text/plain": [
       "<Figure size 1500x1000 with 0 Axes>"
      ]
     },
     "metadata": {},
     "output_type": "display_data"
    },
    {
     "data": {
      "text/plain": [
       "<Figure size 1500x1000 with 0 Axes>"
      ]
     },
     "metadata": {},
     "output_type": "display_data"
    },
    {
     "data": {
      "text/plain": [
       "<Figure size 1500x1000 with 0 Axes>"
      ]
     },
     "metadata": {},
     "output_type": "display_data"
    },
    {
     "data": {
      "text/plain": [
       "<Figure size 1500x1000 with 0 Axes>"
      ]
     },
     "metadata": {},
     "output_type": "display_data"
    },
    {
     "data": {
      "text/plain": [
       "<Figure size 1500x1000 with 0 Axes>"
      ]
     },
     "metadata": {},
     "output_type": "display_data"
    },
    {
     "data": {
      "text/plain": [
       "<Figure size 1500x1000 with 0 Axes>"
      ]
     },
     "metadata": {},
     "output_type": "display_data"
    },
    {
     "data": {
      "text/plain": [
       "<Figure size 1500x1000 with 0 Axes>"
      ]
     },
     "metadata": {},
     "output_type": "display_data"
    },
    {
     "data": {
      "text/plain": [
       "<Figure size 1500x1000 with 0 Axes>"
      ]
     },
     "metadata": {},
     "output_type": "display_data"
    }
   ],
   "source": [
    "# HTTP Constant throughput with HTTPRoute header-based routing experiment (experiment 6)\n",
    "results_pattern = os.path.join(\"..\", \"results\", \"*\", \"06_http_constant_throughput_header\", \"metrics_*.csv\")\n",
    "output_dir      = os.path.join(\"..\", \"diagrams\", \"06_http_constant_throughput_header\")\n",
    "csv_files       = glob.glob(results_pattern)\n",
    "os.makedirs(output_dir, exist_ok=True)\n",
    "\n",
    "if not csv_files:\n",
    "    print(\"No CSV files found in:\", results_pattern)\n",
    "else:\n",
    "    df_list = []\n",
    "    for file in csv_files:\n",
    "        df = load_metrics_csv(file)\n",
    "        _, qps, _ = extract_mesh_qps_payload(file)\n",
    "        df['qps'] = qps\n",
    "        df_list.append(df)\n",
    "    df_exp = pd.concat(df_list, ignore_index=True)\n",
    "    df_exp = df_exp.dropna(subset=['cpu', 'memory', 'qps'])\n",
    "    unique_qps = sorted(df_exp['qps'].unique())\n",
    "\n",
    "    for qps_val in unique_qps:\n",
    "        df_qps    = df_exp[df_exp['qps'] == qps_val]\n",
    "        df_qps_cp = df_qps[df_qps['group'] == 'control-plane']\n",
    "        df_qps_dp = df_qps[df_qps['group'] == 'data-plane']\n",
    "\n",
    "        for metric, ylabel in [('cpu', \"CPU Usage (millicore)\"), ('memory', \"Memory Usage (MB)\")]:\n",
    "            metric_title = \"CPU\" if metric == \"cpu\" else \"Memory\"\n",
    "\n",
    "            # --- Global Plot ---\n",
    "            max_global = df_qps.groupby(['namespace', 'pod', 'container'])[metric].max()\n",
    "            labels_global = [shorten_label(ns, pod, c) for ns, pod, c in max_global.index]\n",
    "            max_global.index = labels_global\n",
    "            plt.figure(figsize=(15, 10))\n",
    "            max_global.plot(kind='bar', color='tab:orange')\n",
    "            plt.title(f\"Experiment 6: Constant Throughput\\n(Prot=HTTPRoute header, QPS={qps_val}, Metric={metric_title})\")\n",
    "            plt.ylabel(ylabel)\n",
    "            plt.xlabel(\"Container\")\n",
    "            plt.xticks(rotation=45, ha='right')\n",
    "            plt.tight_layout()\n",
    "            plt.savefig(os.path.join(output_dir, f\"metrics_{metric}_{qps_val}.png\"))\n",
    "            plt.close()\n",
    "\n",
    "            # --- Control Plane Stacked Plot ---\n",
    "            agg_cp = df_qps_cp.groupby(['namespace', 'pod', 'container'])[metric].max().reset_index()\n",
    "            cp_pivot = agg_cp.pivot_table(index=['namespace', 'pod'], columns='container', values=metric, fill_value=0)\n",
    "            plt.figure(figsize=(15, 10))\n",
    "            cp_pivot.plot(kind='bar', stacked=True)\n",
    "            plt.title(f\"Experiment 6: Constant Throughput\\n(Prot=HTTPRoute header, QPS={qps_val}, Metric={metric_title}, Control Plane)\")\n",
    "            plt.ylabel(ylabel)\n",
    "            plt.xlabel(\"Container\")\n",
    "            plt.legend(loc='best', fontsize='small', ncol=4)\n",
    "            plt.xticks(rotation=45, ha='right', fontsize=6)\n",
    "            plt.tight_layout()\n",
    "            plt.savefig(os.path.join(output_dir, f\"metrics_control_plane_{metric}_{qps_val}.png\"))\n",
    "            plt.close()\n",
    "\n",
    "            # --- Data Plane Plot ---\n",
    "            max_dp = df_qps_dp.groupby(['namespace', 'pod', 'container'])[metric].max()\n",
    "            labels_dp = [shorten_label(ns, pod, c) for ns, pod, c in max_dp.index]\n",
    "            max_dp.index = labels_dp\n",
    "            plt.figure(figsize=(15, 10))\n",
    "            max_dp.plot(kind='bar', color='tab:orange')\n",
    "            plt.title(f\"Experiment 6: Constant Throughput\\n(Prot=HTTPRoute header, QPS={qps_val}, Metric={metric_title}, Data Plane)\")\n",
    "            plt.ylabel(ylabel)\n",
    "            plt.xlabel(\"Container\")\n",
    "            plt.xticks(rotation=45, ha='right')\n",
    "            plt.tight_layout()\n",
    "            plt.savefig(os.path.join(output_dir, f\"metrics_data_plane_{metric}_{qps_val}.png\"))\n",
    "            plt.close()"
   ]
  }
 ],
 "metadata": {
  "kernelspec": {
   "display_name": ".venv",
   "language": "python",
   "name": "python3"
  },
  "language_info": {
   "codemirror_mode": {
    "name": "ipython",
    "version": 3
   },
   "file_extension": ".py",
   "mimetype": "text/x-python",
   "name": "python",
   "nbconvert_exporter": "python",
   "pygments_lexer": "ipython3",
   "version": "3.12.8"
  }
 },
 "nbformat": 4,
 "nbformat_minor": 2
}
