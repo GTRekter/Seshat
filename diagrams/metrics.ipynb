{
 "cells": [
  {
   "cell_type": "markdown",
   "metadata": {},
   "source": [
    "# 📈 Metrics Analysis Notebook\n",
    "\n",
    "This notebook analyzes **CPU** and **Memory** resource usage during performance experiments using Fortio and a service mesh (Istio or Linkerd). It reads resource usage data exported in CSV format from the Kubernetes metrics API and generates visualizations per container.\n",
    "\n",
    "## 🧪 Experiments Covered\n",
    "\n",
    "1. **01 - HTTP Max Throughput**\n",
    "    - Measures max throughput with default Fortio settings.\n",
    "    - Generates average CPU and memory usage per container.\n",
    "\n",
    "2. **02 - HTTP Constant Throughput**\n",
    "    - Uses constant QPS values: 1, 1000, and 10000.\n",
    "    - Shows how resource usage changes with increasing load.\n",
    "\n",
    "3. **03 - HTTP Payload Variation**\n",
    "    - Fixed QPS (100) with payload sizes: 0, 1000, and 10000 bytes.\n",
    "    - Compares container resource usage with different payload sizes.\n",
    "\n",
    "## 📁 Expected Input\n",
    "\n",
    "- CSV files under `../results/<experiment>/metrics_<mesh>_<qps>_<payload>_<timestamp>.csv`\n",
    "- Structure:\n",
    "    - `timestamp, namespace, pod, container, cpu(n), memory(Ki)`\n",
    "    - Plus derived fields: `cpu` (as float), `memory` (as float)\n",
    "\n",
    "## 📉 Output\n",
    "\n",
    "- CPU and Memory bar charts per container for each experiment setup.\n",
    "- Output PNGs are saved in:\n",
    "    - `../diagrams/<experiment>/cpu_*.png`\n",
    "    - `../diagrams/<experiment>/memory_*.png`\n",
    "\n",
    "> 📌 **Note**: CPU values are shown in nanocores, and memory in Ki."
   ]
  },
  {
   "cell_type": "code",
   "execution_count": 70,
   "metadata": {},
   "outputs": [],
   "source": [
    "# %% [code] Import required libraries\n",
    "import os\n",
    "import glob\n",
    "import pandas as pd\n",
    "import matplotlib.pyplot as plt\n",
    "\n",
    "# Use a default matplotlib style\n",
    "plt.style.use('default')"
   ]
  },
  {
   "cell_type": "code",
   "execution_count": 71,
   "metadata": {},
   "outputs": [],
   "source": [
    "def convert_cpu(cpu_str):\n",
    "    \"\"\"\n",
    "    Convert CPU usage from a string with a trailing 'n' (nanocores) \n",
    "    to a float representing millicores (m). (1 millicore = 1e6 nanocores)\n",
    "    \"\"\"\n",
    "    try:\n",
    "        nanocores = float(cpu_str.rstrip('n'))\n",
    "        millicores = nanocores / 1e6 \n",
    "        return millicores\n",
    "    except Exception as e:\n",
    "        print(f\"Error converting CPU value '{cpu_str}': {e}\")\n",
    "        return None\n",
    "\n",
    "\n",
    "def convert_memory(mem_str):\n",
    "    \"\"\"\n",
    "    Convert memory usage from a string (which might be in Ki, Mi, or Gi) to a float representing megabytes (MB).\n",
    "    \n",
    "    Conversions:\n",
    "    - If the value ends with \"Ki\": MB = (numeric value) / 1024.\n",
    "    - If the value ends with \"Mi\": MB = numeric value.\n",
    "    - If the value ends with \"Gi\": MB = (numeric value) * 1024.\n",
    "    - If no known suffix, attempt direct conversion.\n",
    "    \"\"\"\n",
    "    try:\n",
    "        if mem_str.endswith(\"Ki\"):\n",
    "            value = float(mem_str[:-2])\n",
    "            mb = value / 1024.0\n",
    "            return mb\n",
    "        elif mem_str.endswith(\"Mi\"):\n",
    "            value = float(mem_str[:-2])\n",
    "            # Assuming 1 MiB is reported as 1 MB\n",
    "            return value\n",
    "        elif mem_str.endswith(\"Gi\"):\n",
    "            value = float(mem_str[:-2])\n",
    "            return value * 1024.0\n",
    "        else:\n",
    "            # If no unit present, try converting directly\n",
    "            return float(mem_str)\n",
    "    except Exception as e:\n",
    "        print(f\"Error converting memory value '{mem_str}': {e}\")\n",
    "        return None\n"
   ]
  },
  {
   "cell_type": "code",
   "execution_count": 72,
   "metadata": {},
   "outputs": [],
   "source": [
    "def load_metrics_csv(file_path):\n",
    "    \"\"\"\n",
    "    Reads a CSV file with resource metrics, parses the timestamp, and converts the raw CPU\n",
    "    (nanocores remain unchanged) and memory values (in Ki).\n",
    "    \n",
    "    Returns:\n",
    "        A pandas DataFrame with columns:\n",
    "        - timestamp\n",
    "        - namespace\n",
    "        - pod\n",
    "        - container\n",
    "        - cpu(n) (original)\n",
    "        - memory(Ki) (original)\n",
    "        - cpu: numeric CPU in millicore\n",
    "        - memory: numeric memory in MB\n",
    "    \"\"\"\n",
    "    df = pd.read_csv(file_path)\n",
    "    df['timestamp'] = pd.to_datetime(df['timestamp'])\n",
    "    df['cpu'] = df['cpu(n)'].apply(convert_cpu)\n",
    "    df['memory'] = df['memory(Ki)'].apply(convert_memory)\n",
    "    return df\n",
    "\n",
    "def extract_mesh_qps_payload(filename):\n",
    "    \"\"\"\n",
    "    Extract mesh, qps, and payload from a filename assumed to be formatted as:\n",
    "      metrics_<mesh>_<qps>_<payload>_<timestamp>.csv\n",
    "    Returns a tuple: (mesh (str), qps (int), payload (int))\n",
    "    \"\"\"\n",
    "    base = os.path.basename(filename)\n",
    "    parts = base.replace(\"metrics_\", \"\").replace(\".csv\", \"\").split(\"_\")\n",
    "    if len(parts) < 3:\n",
    "        return None, None, None\n",
    "    mesh, qps, payload = parts[0], parts[1], parts[2]\n",
    "    return mesh, int(qps), int(payload)\n",
    "\n",
    "def shorten_label(ns, pod, container, max_len=18):\n",
    "    \"\"\"\n",
    "    Shortens the namespace, pod, and container names to a maximum length.\n",
    "    If the name exceeds max_len, it truncates the string and appends '..'.\n",
    "    Returns a formatted string: \"ns/pod/container\".\n",
    "    \"\"\"\n",
    "    ns_abbr = ns if len(ns) <= max_len else ns[:max_len - 2] + '..'\n",
    "    pod_abbr = pod if len(pod) <= max_len else pod[:max_len - 2] + '..'\n",
    "    container_abbr = container if len(container) <= max_len else container[:max_len - 2] + '..'\n",
    "    return f\"{ns_abbr}/{pod_abbr}/{container_abbr}\""
   ]
  },
  {
   "cell_type": "code",
   "execution_count": 73,
   "metadata": {},
   "outputs": [
    {
     "name": "stdout",
     "output_type": "stream",
     "text": [
      "Aggregated stats for 01_http_max_throughput:\n",
      "                                                                                      cpu  \\\n",
      "                                                                                     mean   \n",
      "namespace              pod                                     container                    \n",
      "istio-system           istiod-76fc5bc774-n76zc                 discovery         3.554458   \n",
      "                       ztunnel-42djx                           istio-proxy     370.786676   \n",
      "                       ztunnel-jmfmq                           istio-proxy       0.076233   \n",
      "linkerd                linkerd-destination-6f94bbc784-2ghb8    destination       1.454225   \n",
      "                                                               linkerd-proxy     0.724178   \n",
      "                                                               policy            0.450076   \n",
      "                                                               sp-validator      0.163958   \n",
      "                       linkerd-identity-7dfb4f8788-28w6h       identity          0.289151   \n",
      "                                                               linkerd-proxy     0.428067   \n",
      "                       linkerd-proxy-injector-77db5c45cc-r44n7 linkerd-proxy     0.391583   \n",
      "                                                               proxy-injector    0.535724   \n",
      "service-mesh-benchmark fortio-client-77c9577658-flqg5          linkerd-proxy   721.604632   \n",
      "                       fortio-server-69c46464d6-9rf85          linkerd-proxy   662.737370   \n",
      "                       waypoint-855dfcf87c-5gvl7               istio-proxy     749.686827   \n",
      "\n",
      "                                                                                           \\\n",
      "                                                                                   median   \n",
      "namespace              pod                                     container                    \n",
      "istio-system           istiod-76fc5bc774-n76zc                 discovery         2.810826   \n",
      "                       ztunnel-42djx                           istio-proxy     546.474633   \n",
      "                       ztunnel-jmfmq                           istio-proxy       0.053123   \n",
      "linkerd                linkerd-destination-6f94bbc784-2ghb8    destination       1.376126   \n",
      "                                                               linkerd-proxy     0.723206   \n",
      "                                                               policy            0.453093   \n",
      "                                                               sp-validator      0.178111   \n",
      "                       linkerd-identity-7dfb4f8788-28w6h       identity          0.173046   \n",
      "                                                               linkerd-proxy     0.413845   \n",
      "                       linkerd-proxy-injector-77db5c45cc-r44n7 linkerd-proxy     0.386881   \n",
      "                                                               proxy-injector    0.349990   \n",
      "service-mesh-benchmark fortio-client-77c9577658-flqg5          linkerd-proxy   852.120796   \n",
      "                       fortio-server-69c46464d6-9rf85          linkerd-proxy   716.371267   \n",
      "                       waypoint-855dfcf87c-5gvl7               istio-proxy     990.103519   \n",
      "\n",
      "                                                                                           \\\n",
      "                                                                                      std   \n",
      "namespace              pod                                     container                    \n",
      "istio-system           istiod-76fc5bc774-n76zc                 discovery         1.841261   \n",
      "                       ztunnel-42djx                           istio-proxy     253.831355   \n",
      "                       ztunnel-jmfmq                           istio-proxy       0.034843   \n",
      "linkerd                linkerd-destination-6f94bbc784-2ghb8    destination       0.229942   \n",
      "                                                               linkerd-proxy     0.052324   \n",
      "                                                               policy            0.170906   \n",
      "                                                               sp-validator      0.033188   \n",
      "                       linkerd-identity-7dfb4f8788-28w6h       identity          0.133323   \n",
      "                                                               linkerd-proxy     0.072694   \n",
      "                       linkerd-proxy-injector-77db5c45cc-r44n7 linkerd-proxy     0.016056   \n",
      "                                                               proxy-injector    0.611238   \n",
      "service-mesh-benchmark fortio-client-77c9577658-flqg5          linkerd-proxy   137.129938   \n",
      "                       fortio-server-69c46464d6-9rf85          linkerd-proxy    56.889595   \n",
      "                       waypoint-855dfcf87c-5gvl7               istio-proxy     344.178820   \n",
      "\n",
      "                                                                                   memory  \\\n",
      "                                                                                     mean   \n",
      "namespace              pod                                     container                    \n",
      "istio-system           istiod-76fc5bc774-n76zc                 discovery        67.278604   \n",
      "                       ztunnel-42djx                           istio-proxy     140.152344   \n",
      "                       ztunnel-jmfmq                           istio-proxy       1.812500   \n",
      "linkerd                linkerd-destination-6f94bbc784-2ghb8    destination      24.254701   \n",
      "                                                               linkerd-proxy    14.061117   \n",
      "                                                               policy            4.765279   \n",
      "                                                               sp-validator     19.802959   \n",
      "                       linkerd-identity-7dfb4f8788-28w6h       identity         17.248998   \n",
      "                                                               linkerd-proxy    11.588841   \n",
      "                       linkerd-proxy-injector-77db5c45cc-r44n7 linkerd-proxy    11.500449   \n",
      "                                                               proxy-injector   26.961318   \n",
      "service-mesh-benchmark fortio-client-77c9577658-flqg5          linkerd-proxy    14.743083   \n",
      "                       fortio-server-69c46464d6-9rf85          linkerd-proxy    15.402832   \n",
      "                       waypoint-855dfcf87c-5gvl7               istio-proxy      45.285440   \n",
      "\n",
      "                                                                                           \\\n",
      "                                                                                   median   \n",
      "namespace              pod                                     container                    \n",
      "istio-system           istiod-76fc5bc774-n76zc                 discovery        67.242188   \n",
      "                       ztunnel-42djx                           istio-proxy     140.125000   \n",
      "                       ztunnel-jmfmq                           istio-proxy       1.812500   \n",
      "linkerd                linkerd-destination-6f94bbc784-2ghb8    destination      24.179688   \n",
      "                                                               linkerd-proxy    14.062500   \n",
      "                                                               policy            4.765625   \n",
      "                                                               sp-validator     19.804688   \n",
      "                       linkerd-identity-7dfb4f8788-28w6h       identity         17.273438   \n",
      "                                                               linkerd-proxy    11.589844   \n",
      "                       linkerd-proxy-injector-77db5c45cc-r44n7 linkerd-proxy    11.503906   \n",
      "                                                               proxy-injector   26.957031   \n",
      "service-mesh-benchmark fortio-client-77c9577658-flqg5          linkerd-proxy    14.824219   \n",
      "                       fortio-server-69c46464d6-9rf85          linkerd-proxy    15.480469   \n",
      "                       waypoint-855dfcf87c-5gvl7               istio-proxy      45.289062   \n",
      "\n",
      "                                                                                         \n",
      "                                                                                    std  \n",
      "namespace              pod                                     container                 \n",
      "istio-system           istiod-76fc5bc774-n76zc                 discovery       0.059489  \n",
      "                       ztunnel-42djx                           istio-proxy     0.041379  \n",
      "                       ztunnel-jmfmq                           istio-proxy     0.000000  \n",
      "linkerd                linkerd-destination-6f94bbc784-2ghb8    destination     0.125900  \n",
      "                                                               linkerd-proxy   0.002855  \n",
      "                                                               policy          0.010969  \n",
      "                                                               sp-validator    0.001949  \n",
      "                       linkerd-identity-7dfb4f8788-28w6h       identity        0.056609  \n",
      "                                                               linkerd-proxy   0.002138  \n",
      "                       linkerd-proxy-injector-77db5c45cc-r44n7 linkerd-proxy   0.003898  \n",
      "                                                               proxy-injector  0.012418  \n",
      "service-mesh-benchmark fortio-client-77c9577658-flqg5          linkerd-proxy   0.087612  \n",
      "                       fortio-server-69c46464d6-9rf85          linkerd-proxy   0.083413  \n",
      "                       waypoint-855dfcf87c-5gvl7               istio-proxy     0.015467  \n",
      "Saved Global CPU plot to ../diagrams/01_http_max_throughput/global_cpu_0.png\n",
      "Saved Control Plane CPU stacked plot to ../diagrams/01_http_max_throughput/control_plane_cpu_0.png\n",
      "Saved Data Plane CPU plot to ../diagrams/01_http_max_throughput/data_plane_cpu_0.png\n",
      "Saved Global Memory plot to ../diagrams/01_http_max_throughput/global_memory_0.png\n",
      "Saved Control Plane Memory stacked plot to ../diagrams/01_http_max_throughput/control_plane_memory_0.png\n",
      "Saved Data Plane Memory plot to ../diagrams/01_http_max_throughput/data_plane_memory_0.png\n"
     ]
    },
    {
     "data": {
      "text/plain": [
       "<Figure size 1500x1000 with 0 Axes>"
      ]
     },
     "metadata": {},
     "output_type": "display_data"
    },
    {
     "data": {
      "text/plain": [
       "<Figure size 1500x1000 with 0 Axes>"
      ]
     },
     "metadata": {},
     "output_type": "display_data"
    }
   ],
   "source": [
    "# %% [code] Process 01_http_max_throughput experiment data and generate aggregated and stacked diagrams\n",
    "\n",
    "# Set path to the 01_http_max_throughput experiment directory\n",
    "experiment_dir = os.path.join(\"..\", \"results\", \"01_http_max_throughput\")\n",
    "output_dir = os.path.join(\"..\", \"diagrams\", \"01_http_max_throughput\")\n",
    "csv_files = glob.glob(os.path.join(experiment_dir, 'metrics_*.csv'))\n",
    "os.makedirs(output_dir, exist_ok=True)\n",
    "\n",
    "if not csv_files:\n",
    "    print(\"No CSV files found in:\", experiment_dir)\n",
    "else:\n",
    "    # Load and combine all CSV files\n",
    "    df_list = [load_metrics_csv(file) for file in csv_files]\n",
    "    df_exp = pd.concat(df_list, ignore_index=True)\n",
    "    # Drop rows with NaN values in CPU or memory\n",
    "    df_exp = df_exp.dropna(subset=['cpu', 'memory'])\n",
    "    # Group data based on the control-plane only.\n",
    "    df_cp = df_exp[df_exp['group'] == 'control-plane'].copy()\n",
    "    # Group data based on the data-plane only.\n",
    "    df_dp = df_exp[df_exp['group'] == 'data-plane'].copy()\n",
    "    # Aggregate overall statistics per namespace/pod/container.\n",
    "    agg_stats = df_exp.groupby(['namespace', 'pod', 'container'])[['cpu', 'memory']].agg(['mean', 'median', 'std'])\n",
    "    print(\"Aggregated stats for 01_http_max_throughput:\")\n",
    "    print(agg_stats)\n",
    "\n",
    "    for metric, ylabel in [('cpu', \"CPU Usage (millicore)\"), ('memory', \"Memory Usage (MB)\")]:\n",
    "        max_metric = df_exp.groupby(['namespace', 'pod', 'container'])[metric].max()\n",
    "        labels = [shorten_label(ns, pod, c) for ns, pod, c in max_metric.index]\n",
    "        metric_title = \"CPU\" if metric == \"cpu\" else \"Memory\"\n",
    "\n",
    "        # --- Global Plot ---\n",
    "        max_global = df_exp.groupby(['namespace', 'pod', 'container'])[metric].max()\n",
    "        labels_global = [shorten_label(ns, pod, c) for ns, pod, c in max_global.index]\n",
    "        max_global.index = labels_global    \n",
    "        plt.figure(figsize=(15, 10))\n",
    "        max_global.plot(kind='bar', color='tab:orange')\n",
    "        plt.title(f\"HTTP Max Throughput: Max {metric_title} Usage per Container\")\n",
    "        plt.ylabel(ylabel)\n",
    "        plt.xticks(rotation=45, ha='right')\n",
    "        plt.tight_layout()\n",
    "        output_path = os.path.join(output_dir, f\"global_{metric}_0.png\")\n",
    "        plt.savefig(output_path)\n",
    "        plt.close()\n",
    "        print(f\"Saved Global {metric_title} plot to\", output_path)\n",
    "\n",
    "        # --- Control Plane Stacked Plot ---\n",
    "        agg_cp = df_cp.groupby(['namespace', 'pod', 'container'])[metric].max().reset_index()\n",
    "        cp_pivot = agg_cp.pivot_table(index=['namespace', 'pod'], columns='container', values=metric, fill_value=0)       \n",
    "        plt.figure(figsize=(15, 10))\n",
    "        cp_pivot.plot(kind='bar', stacked=True)\n",
    "        plt.title(f\"HTTP Max Throughput: Control Plane Max {metric_title} Usage per Container\")\n",
    "        plt.ylabel(ylabel)\n",
    "        plt.legend(loc='best', fontsize='small', ncol=4)\n",
    "        plt.xticks(rotation=45, ha='right', fontsize=6)\n",
    "        plt.tight_layout()\n",
    "        output_path = os.path.join(output_dir, f\"control_plane_{metric}_0.png\")\n",
    "        plt.savefig(output_path)\n",
    "        plt.close()\n",
    "        print(f\"Saved Control Plane {metric_title} stacked plot to\", output_path)\n",
    "        \n",
    "        # --- Data Plane Plot ---\n",
    "        max_dp = df_dp.groupby(['namespace', 'pod', 'container'])[metric].max()\n",
    "        labels_dp = [shorten_label(ns, pod, c) for ns, pod, c in max_dp.index]\n",
    "        max_dp.index = labels_dp\n",
    "        plt.figure(figsize=(15, 10))\n",
    "        max_dp.plot(kind='bar', color='tab:orange')\n",
    "        plt.title(f\"HTTP Max Throughput: Data Plane Max {metric_title} Usage per Container\")\n",
    "        plt.ylabel(ylabel)\n",
    "        plt.xticks(rotation=45, ha='right')\n",
    "        plt.tight_layout()\n",
    "        output_path = os.path.join(output_dir, f\"data_plane_{metric}_0.png\")\n",
    "        plt.savefig(output_path)\n",
    "        plt.close()\n",
    "        print(f\"Saved Data Plane {metric_title} plot to\", output_path)"
   ]
  },
  {
   "cell_type": "code",
   "execution_count": 74,
   "metadata": {},
   "outputs": [
    {
     "name": "stdout",
     "output_type": "stream",
     "text": [
      "Saved Global CPU QPS 1 plot to ../diagrams/02_http_constant_throughput/global_cpu_1.png\n",
      "Saved Control Plane CPU QPS 1 plot to ../diagrams/02_http_constant_throughput/control_plane_cpu_1.png\n",
      "Saved Data Plane CPU QPS 1 plot to ../diagrams/02_http_constant_throughput/data_plane_cpu_1.png\n",
      "Saved Global Memory QPS 1 plot to ../diagrams/02_http_constant_throughput/global_memory_1.png\n",
      "Saved Control Plane Memory QPS 1 plot to ../diagrams/02_http_constant_throughput/control_plane_memory_1.png\n",
      "Saved Data Plane Memory QPS 1 plot to ../diagrams/02_http_constant_throughput/data_plane_memory_1.png\n",
      "Saved Global CPU QPS 1000 plot to ../diagrams/02_http_constant_throughput/global_cpu_1000.png\n",
      "Saved Control Plane CPU QPS 1000 plot to ../diagrams/02_http_constant_throughput/control_plane_cpu_1000.png\n",
      "Saved Data Plane CPU QPS 1000 plot to ../diagrams/02_http_constant_throughput/data_plane_cpu_1000.png\n",
      "Saved Global Memory QPS 1000 plot to ../diagrams/02_http_constant_throughput/global_memory_1000.png\n",
      "Saved Control Plane Memory QPS 1000 plot to ../diagrams/02_http_constant_throughput/control_plane_memory_1000.png\n",
      "Saved Data Plane Memory QPS 1000 plot to ../diagrams/02_http_constant_throughput/data_plane_memory_1000.png\n",
      "Saved Global CPU QPS 10000 plot to ../diagrams/02_http_constant_throughput/global_cpu_10000.png\n",
      "Saved Control Plane CPU QPS 10000 plot to ../diagrams/02_http_constant_throughput/control_plane_cpu_10000.png\n",
      "Saved Data Plane CPU QPS 10000 plot to ../diagrams/02_http_constant_throughput/data_plane_cpu_10000.png\n",
      "Saved Global Memory QPS 10000 plot to ../diagrams/02_http_constant_throughput/global_memory_10000.png\n",
      "Saved Control Plane Memory QPS 10000 plot to ../diagrams/02_http_constant_throughput/control_plane_memory_10000.png\n",
      "Saved Data Plane Memory QPS 10000 plot to ../diagrams/02_http_constant_throughput/data_plane_memory_10000.png\n",
      "Saved Global CPU QPS 100000 plot to ../diagrams/02_http_constant_throughput/global_cpu_100000.png\n",
      "Saved Control Plane CPU QPS 100000 plot to ../diagrams/02_http_constant_throughput/control_plane_cpu_100000.png\n",
      "Saved Data Plane CPU QPS 100000 plot to ../diagrams/02_http_constant_throughput/data_plane_cpu_100000.png\n",
      "Saved Global Memory QPS 100000 plot to ../diagrams/02_http_constant_throughput/global_memory_100000.png\n",
      "Saved Control Plane Memory QPS 100000 plot to ../diagrams/02_http_constant_throughput/control_plane_memory_100000.png\n",
      "Saved Data Plane Memory QPS 100000 plot to ../diagrams/02_http_constant_throughput/data_plane_memory_100000.png\n",
      "Saved Global CPU QPS 1000000 plot to ../diagrams/02_http_constant_throughput/global_cpu_1000000.png\n",
      "Saved Control Plane CPU QPS 1000000 plot to ../diagrams/02_http_constant_throughput/control_plane_cpu_1000000.png\n",
      "Saved Data Plane CPU QPS 1000000 plot to ../diagrams/02_http_constant_throughput/data_plane_cpu_1000000.png\n",
      "Saved Global Memory QPS 1000000 plot to ../diagrams/02_http_constant_throughput/global_memory_1000000.png\n",
      "Saved Control Plane Memory QPS 1000000 plot to ../diagrams/02_http_constant_throughput/control_plane_memory_1000000.png\n",
      "Saved Data Plane Memory QPS 1000000 plot to ../diagrams/02_http_constant_throughput/data_plane_memory_1000000.png\n"
     ]
    },
    {
     "data": {
      "text/plain": [
       "<Figure size 1500x1000 with 0 Axes>"
      ]
     },
     "metadata": {},
     "output_type": "display_data"
    },
    {
     "data": {
      "text/plain": [
       "<Figure size 1500x1000 with 0 Axes>"
      ]
     },
     "metadata": {},
     "output_type": "display_data"
    },
    {
     "data": {
      "text/plain": [
       "<Figure size 1500x1000 with 0 Axes>"
      ]
     },
     "metadata": {},
     "output_type": "display_data"
    },
    {
     "data": {
      "text/plain": [
       "<Figure size 1500x1000 with 0 Axes>"
      ]
     },
     "metadata": {},
     "output_type": "display_data"
    },
    {
     "data": {
      "text/plain": [
       "<Figure size 1500x1000 with 0 Axes>"
      ]
     },
     "metadata": {},
     "output_type": "display_data"
    },
    {
     "data": {
      "text/plain": [
       "<Figure size 1500x1000 with 0 Axes>"
      ]
     },
     "metadata": {},
     "output_type": "display_data"
    },
    {
     "data": {
      "text/plain": [
       "<Figure size 1500x1000 with 0 Axes>"
      ]
     },
     "metadata": {},
     "output_type": "display_data"
    },
    {
     "data": {
      "text/plain": [
       "<Figure size 1500x1000 with 0 Axes>"
      ]
     },
     "metadata": {},
     "output_type": "display_data"
    },
    {
     "data": {
      "text/plain": [
       "<Figure size 1500x1000 with 0 Axes>"
      ]
     },
     "metadata": {},
     "output_type": "display_data"
    },
    {
     "data": {
      "text/plain": [
       "<Figure size 1500x1000 with 0 Axes>"
      ]
     },
     "metadata": {},
     "output_type": "display_data"
    }
   ],
   "source": [
    "# %% [code] Process 02_http_constant_throughput experiment data with QPS information and save diagrams\n",
    "\n",
    "# Set paths for the results and output diagrams directories\n",
    "results_dir = os.path.join(\"..\", \"results\", \"02_http_constant_throughput\")\n",
    "output_dir  = os.path.join(\"..\", \"diagrams\", \"02_http_constant_throughput\")\n",
    "csv_files = glob.glob(os.path.join(results_dir, 'metrics_*.csv'))\n",
    "os.makedirs(output_dir, exist_ok=True)\n",
    "\n",
    "if not csv_files:\n",
    "    print(\"No CSV files found in:\", results_dir)\n",
    "else:\n",
    "    df_list = []\n",
    "    for file in csv_files:\n",
    "        df = load_metrics_csv(file)\n",
    "        # Extract the qps value from the filename using extract_mesh_qps_payload\n",
    "        _, qps, _ = extract_mesh_qps_payload(file)\n",
    "        df['qps'] = qps\n",
    "        df_list.append(df)\n",
    "    df_exp = pd.concat(df_list, ignore_index=True)\n",
    "    # Drop rows with missing values to avoid plotting issues\n",
    "    df_exp = df_exp.dropna(subset=['cpu', 'memory', 'qps'])\n",
    "    # Get the unique QPS values present in the data (sorted)\n",
    "    unique_qps = sorted(df_exp['qps'].unique())\n",
    "    for qps_val in unique_qps:\n",
    "        df_qps = df_exp[df_exp['qps'] == qps_val]\n",
    "        df_qps_cp = df_qps[df_qps['group'] == 'control-plane']\n",
    "        df_qps_dp = df_qps[df_qps['group'] == 'data-plane']\n",
    "\n",
    "        for metric, ylabel in [('cpu', \"CPU Usage (millicore)\"), ('memory', \"Memory Usage (MB)\")]:\n",
    "            metric_title = \"CPU\" if metric == \"cpu\" else \"Memory\"\n",
    "\n",
    "            # --- Global Plot ---\n",
    "            max_global = df_qps.groupby(['namespace', 'pod', 'container'])[metric].max()\n",
    "            labels_global = [shorten_label(ns, pod, c) for ns, pod, c in max_global.index]\n",
    "            max_global.index = labels_global    \n",
    "            plt.figure(figsize=(15, 10))\n",
    "            max_global.plot(kind='bar', color='tab:orange')\n",
    "            plt.title(f\"HTTP Max Throughput: Max {metric_title} (qps = {qps_val}) Usage per Container\")\n",
    "            plt.ylabel(ylabel)\n",
    "            plt.xlabel(\"Container\")\n",
    "            plt.xticks(rotation=45, ha='right')\n",
    "            plt.tight_layout()\n",
    "            output_path = os.path.join(output_dir, f\"global_{metric}_{qps_val}.png\")\n",
    "            plt.savefig(output_path)\n",
    "            plt.close()\n",
    "            print(f\"Saved Global {metric_title} QPS {qps_val} plot to\", output_path)\n",
    "\n",
    "            # --- Control Plane Stacked Plot ---\n",
    "            agg_cp = df_qps_cp.groupby(['namespace', 'pod', 'container'])[metric].max().reset_index()\n",
    "            cp_pivot = agg_cp.pivot_table(index=['namespace', 'pod'], columns='container', values=metric, fill_value=0)       \n",
    "            plt.figure(figsize=(15, 10))\n",
    "            cp_pivot.plot(kind='bar', stacked=True)\n",
    "            plt.title(f\"HTTP Max Throughput: Control Plane Max {metric_title} (qps = {qps_val}) Usage per Container\")\n",
    "            plt.ylabel(ylabel)\n",
    "            plt.xlabel(\"Container\")\n",
    "            plt.legend(loc='best', fontsize='small', ncol=4)\n",
    "            plt.xticks(rotation=45, ha='right', fontsize=6)\n",
    "            plt.tight_layout()\n",
    "            output_path = os.path.join(output_dir, f\"control_plane_{metric}_{qps_val}.png\")\n",
    "            plt.savefig(output_path)\n",
    "            plt.close()\n",
    "            print(f\"Saved Control Plane {metric_title} QPS {qps_val} plot to\", output_path)\n",
    "            \n",
    "            # --- Data Plane Plot ---\n",
    "            max_dp = df_dp.groupby(['namespace', 'pod', 'container'])[metric].max()\n",
    "            labels_dp = [shorten_label(ns, pod, c) for ns, pod, c in max_dp.index]\n",
    "            max_dp.index = labels_dp\n",
    "            plt.figure(figsize=(15, 10))\n",
    "            max_dp.plot(kind='bar', color='tab:orange')\n",
    "            plt.title(f\"HTTP Max Throughput: Data Plane Max {metric_title} (qps = {qps_val}) Usage per Container\")\n",
    "            plt.ylabel(ylabel)\n",
    "            plt.xlabel(\"Container\")\n",
    "            plt.xticks(rotation=45, ha='right')\n",
    "            plt.tight_layout()\n",
    "            output_path = os.path.join(output_dir, f\"data_plane_{metric}_{qps_val}.png\")\n",
    "            plt.savefig(output_path)\n",
    "            plt.close()\n",
    "            print(f\"Saved Data Plane {metric_title} QPS {qps_val} plot to\", output_path)\n"
   ]
  },
  {
   "cell_type": "code",
   "execution_count": 75,
   "metadata": {},
   "outputs": [
    {
     "name": "stdout",
     "output_type": "stream",
     "text": [
      "Saved Global CPU QPS 1000 10000 plot to ../diagrams/03_http_payload/global_cpu_1000_10000.png\n",
      "Saved Control Plane CPU QPS 1000 10000 plot to ../diagrams/03_http_payload/control_plane_cpu_1000_10000.png\n",
      "Saved Data Plane CPU QPS 1000 10000 plot to ../diagrams/03_http_payload/data_plane_cpu_1000_10000.png\n",
      "Saved Global Memory QPS 1000 10000 plot to ../diagrams/03_http_payload/global_memory_1000_10000.png\n",
      "Saved Control Plane Memory QPS 1000 10000 plot to ../diagrams/03_http_payload/control_plane_memory_1000_10000.png\n",
      "Saved Data Plane Memory QPS 1000 10000 plot to ../diagrams/03_http_payload/data_plane_memory_1000_10000.png\n",
      "Saved Global CPU QPS 1000 100000 plot to ../diagrams/03_http_payload/global_cpu_1000_100000.png\n",
      "Saved Control Plane CPU QPS 1000 100000 plot to ../diagrams/03_http_payload/control_plane_cpu_1000_100000.png\n",
      "Saved Data Plane CPU QPS 1000 100000 plot to ../diagrams/03_http_payload/data_plane_cpu_1000_100000.png\n",
      "Saved Global Memory QPS 1000 100000 plot to ../diagrams/03_http_payload/global_memory_1000_100000.png\n",
      "Saved Control Plane Memory QPS 1000 100000 plot to ../diagrams/03_http_payload/control_plane_memory_1000_100000.png\n",
      "Saved Data Plane Memory QPS 1000 100000 plot to ../diagrams/03_http_payload/data_plane_memory_1000_100000.png\n",
      "Saved Global CPU QPS 1000 1000000 plot to ../diagrams/03_http_payload/global_cpu_1000_1000000.png\n",
      "Saved Control Plane CPU QPS 1000 1000000 plot to ../diagrams/03_http_payload/control_plane_cpu_1000_1000000.png\n",
      "Saved Data Plane CPU QPS 1000 1000000 plot to ../diagrams/03_http_payload/data_plane_cpu_1000_1000000.png\n",
      "Saved Global Memory QPS 1000 1000000 plot to ../diagrams/03_http_payload/global_memory_1000_1000000.png\n",
      "Saved Control Plane Memory QPS 1000 1000000 plot to ../diagrams/03_http_payload/control_plane_memory_1000_1000000.png\n",
      "Saved Data Plane Memory QPS 1000 1000000 plot to ../diagrams/03_http_payload/data_plane_memory_1000_1000000.png\n"
     ]
    },
    {
     "data": {
      "text/plain": [
       "<Figure size 1500x1000 with 0 Axes>"
      ]
     },
     "metadata": {},
     "output_type": "display_data"
    },
    {
     "data": {
      "text/plain": [
       "<Figure size 1500x1000 with 0 Axes>"
      ]
     },
     "metadata": {},
     "output_type": "display_data"
    },
    {
     "data": {
      "text/plain": [
       "<Figure size 1500x1000 with 0 Axes>"
      ]
     },
     "metadata": {},
     "output_type": "display_data"
    },
    {
     "data": {
      "text/plain": [
       "<Figure size 1500x1000 with 0 Axes>"
      ]
     },
     "metadata": {},
     "output_type": "display_data"
    },
    {
     "data": {
      "text/plain": [
       "<Figure size 1500x1000 with 0 Axes>"
      ]
     },
     "metadata": {},
     "output_type": "display_data"
    },
    {
     "data": {
      "text/plain": [
       "<Figure size 1500x1000 with 0 Axes>"
      ]
     },
     "metadata": {},
     "output_type": "display_data"
    }
   ],
   "source": [
    "# %% [code] Process 03_http_payload experiment data and plot per container (using payload)\n",
    "\n",
    "# Set paths for the results and output diagrams directories\n",
    "experiment_dir = os.path.join(\"..\", \"results\", \"03_http_payload\")\n",
    "output_dir  = os.path.join(\"..\", \"diagrams\", \"03_http_payload\")\n",
    "csv_files = glob.glob(os.path.join(experiment_dir, 'metrics_*.csv'))\n",
    "os.makedirs(output_dir, exist_ok=True)\n",
    "\n",
    "if not csv_files:\n",
    "    print(\"No CSV files found in:\", experiment_dir)\n",
    "else:\n",
    "    # Load each CSV and extract additional parameters (mesh, qps, payload)\n",
    "    df_list = []\n",
    "    for file in csv_files:\n",
    "        df = load_metrics_csv(file)\n",
    "        mesh, qps, payload = extract_mesh_qps_payload(file)\n",
    "        df['mesh'] = mesh\n",
    "        df['qps'] = qps\n",
    "        df['payload'] = payload\n",
    "        df_list.append(df)\n",
    "    df_exp = pd.concat(df_list, ignore_index=True)\n",
    "    \n",
    "    # Identify unique qps and payload values\n",
    "    unique_qps = sorted(df_exp['qps'].dropna().unique())\n",
    "    unique_payload = sorted(df_exp['payload'].dropna().unique())\n",
    "    qps_val = unique_qps[0] if unique_qps else None\n",
    "    for payload_val in unique_payload:\n",
    "        df_subset = df_exp[df_exp['payload'] == payload_val]\n",
    "        df_subset_cp = df_subset[df_subset['group'] == 'control-plane']\n",
    "        df_subset_dp = df_subset[df_subset['group'] == 'data-plane']\n",
    "\n",
    "        for metric, ylabel in [('cpu', \"CPU Usage (millicore)\"), ('memory', \"Memory Usage (MB)\")]:\n",
    "            metric_title = \"CPU\" if metric == \"cpu\" else \"Memory\"\n",
    "\n",
    "            # --- Global Plot ---\n",
    "            max_global = df_subset.groupby(['namespace', 'pod', 'container'])[metric].max()\n",
    "            labels_global = [shorten_label(ns, pod, c) for ns, pod, c in max_global.index]\n",
    "            max_global.index = labels_global    \n",
    "            plt.figure(figsize=(15, 10))\n",
    "            max_global.plot(kind='bar', color='tab:orange')\n",
    "            plt.title(f\"HTTP Max Throughput: Max {metric_title} (qps = {qps_val}, payload = {payload_val}) Usage per Container\")\n",
    "            plt.ylabel(ylabel)\n",
    "            plt.xlabel(\"Container\")\n",
    "            plt.xticks(rotation=45, ha='right')\n",
    "            plt.tight_layout()\n",
    "            output_path = os.path.join(output_dir, f\"global_{metric}_{qps_val}_{payload_val}.png\")\n",
    "            plt.savefig(output_path)\n",
    "            plt.close()\n",
    "            print(f\"Saved Global {metric_title} QPS {qps_val} {payload_val} plot to\", output_path)\n",
    "\n",
    "            # --- Control Plane Stacked Plot ---\n",
    "            agg_cp = df_subset_cp.groupby(['namespace', 'pod', 'container'])[metric].max().reset_index()\n",
    "            cp_pivot = agg_cp.pivot_table(index=['namespace', 'pod'], columns='container', values=metric, fill_value=0)       \n",
    "            plt.figure(figsize=(15, 10))\n",
    "            cp_pivot.plot(kind='bar', stacked=True)\n",
    "            plt.title(f\"HTTP Max Throughput: Control Plane Max {metric_title} (qps = {qps_val}, payload = {payload_val}) Usage per Container\")\n",
    "            plt.ylabel(ylabel)\n",
    "            plt.xlabel(\"Container\")\n",
    "            plt.legend(loc='best', fontsize='small', ncol=4)\n",
    "            plt.xticks(rotation=45, ha='right', fontsize=6)\n",
    "            plt.tight_layout()\n",
    "            output_path = os.path.join(output_dir, f\"control_plane_{metric}_{qps_val}_{payload_val}.png\")\n",
    "            plt.savefig(output_path)\n",
    "            plt.close()\n",
    "            print(f\"Saved Control Plane {metric_title} QPS {qps_val} {payload_val} plot to\", output_path)\n",
    "            \n",
    "            # --- Data Plane Plot ---\n",
    "            max_dp = df_subset_dp.groupby(['namespace', 'pod', 'container'])[metric].max()\n",
    "            labels_dp = [shorten_label(ns, pod, c) for ns, pod, c in max_dp.index]\n",
    "            max_dp.index = labels_dp\n",
    "            plt.figure(figsize=(15, 10))\n",
    "            max_dp.plot(kind='bar', color='tab:orange')\n",
    "            plt.title(f\"HTTP Max Throughput: Data Plane Max {metric_title} (qps = {qps_val}, payload = {payload_val}) Usage per Container\")\n",
    "            plt.ylabel(ylabel)\n",
    "            plt.xlabel(\"Container\")\n",
    "            plt.xticks(rotation=45, ha='right')\n",
    "            plt.tight_layout()\n",
    "            output_path = os.path.join(output_dir, f\"data_plane_{metric}_{qps_val}_{payload_val}.png\")\n",
    "            plt.savefig(output_path)\n",
    "            plt.close()\n",
    "            print(f\"Saved Data Plane {metric_title} QPS {qps_val} {payload_val} plot to\", output_path)"
   ]
  },
  {
   "cell_type": "code",
   "execution_count": 76,
   "metadata": {},
   "outputs": [
    {
     "name": "stdout",
     "output_type": "stream",
     "text": [
      "Saved Global CPU QPS 0 0 plot to ../diagrams/04_grpc_max_throughput/global_cpu_0_0.png\n",
      "Saved Control Plane CPU QPS 0 0 plot to ../diagrams/04_grpc_max_throughput/control_plane_cpu_0_0.png\n",
      "Saved Data Plane CPU QPS 0 0 plot to ../diagrams/04_grpc_max_throughput/data_plane_cpu_0_0.png\n",
      "Saved Global Memory QPS 0 0 plot to ../diagrams/04_grpc_max_throughput/global_memory_0_0.png\n",
      "Saved Control Plane Memory QPS 0 0 plot to ../diagrams/04_grpc_max_throughput/control_plane_memory_0_0.png\n",
      "Saved Data Plane Memory QPS 0 0 plot to ../diagrams/04_grpc_max_throughput/data_plane_memory_0_0.png\n"
     ]
    },
    {
     "data": {
      "text/plain": [
       "<Figure size 1500x1000 with 0 Axes>"
      ]
     },
     "metadata": {},
     "output_type": "display_data"
    },
    {
     "data": {
      "text/plain": [
       "<Figure size 1500x1000 with 0 Axes>"
      ]
     },
     "metadata": {},
     "output_type": "display_data"
    }
   ],
   "source": [
    "# %% [code] Process 04_grpc_max_throughput experiment data and plot per container (using payload)\n",
    "\n",
    "# Set paths for the results and output diagrams directories\n",
    "experiment_dir = os.path.join(\"..\", \"results\", \"04_grpc_max_throughput\")\n",
    "output_dir  = os.path.join(\"..\", \"diagrams\", \"04_grpc_max_throughput\")\n",
    "csv_files = glob.glob(os.path.join(experiment_dir, 'metrics_*.csv'))\n",
    "os.makedirs(output_dir, exist_ok=True)\n",
    "\n",
    "if not csv_files:\n",
    "    print(\"No CSV files found in:\", experiment_dir)\n",
    "else:\n",
    "    # Load each CSV and extract additional parameters (mesh, qps, payload)\n",
    "    df_list = []\n",
    "    for file in csv_files:\n",
    "        df = load_metrics_csv(file)\n",
    "        mesh, qps, payload = extract_mesh_qps_payload(file)\n",
    "        df['mesh'] = mesh\n",
    "        df['qps'] = qps\n",
    "        df['payload'] = payload\n",
    "        df_list.append(df)\n",
    "    df_exp = pd.concat(df_list, ignore_index=True)\n",
    "    \n",
    "    # Identify unique qps and payload values\n",
    "    unique_qps = sorted(df_exp['qps'].dropna().unique())\n",
    "    unique_payload = sorted(df_exp['payload'].dropna().unique())\n",
    "    qps_val = unique_qps[0] if unique_qps else None\n",
    "    for payload_val in unique_payload:\n",
    "        df_subset = df_exp[df_exp['payload'] == payload_val]\n",
    "        df_subset_cp = df_subset[df_exp['group'] == 'control-plane']\n",
    "        df_subset_dp = df_subset[df_exp['group'] == 'data-plane']\n",
    "\n",
    "        for metric, ylabel in [('cpu', \"CPU Usage (millicore)\"), ('memory', \"Memory Usage (MB)\")]:\n",
    "            metric_title = \"CPU\" if metric == \"cpu\" else \"Memory\"\n",
    "\n",
    "            # --- Global Plot ---\n",
    "            max_global = df_subset.groupby(['namespace', 'pod', 'container'])[metric].max()\n",
    "            labels_global = [shorten_label(ns, pod, c) for ns, pod, c in max_global.index]\n",
    "            max_global.index = labels_global    \n",
    "            plt.figure(figsize=(15, 10))\n",
    "            max_global.plot(kind='bar', color='tab:orange')\n",
    "            plt.title(f\"gRPC Max Throughput: Max {metric_title} (qps = {qps_val}, payload = {payload_val}) Usage per Container\")\n",
    "            plt.ylabel(ylabel)\n",
    "            plt.xlabel(\"Container\")\n",
    "            plt.xticks(rotation=45, ha='right')\n",
    "            plt.tight_layout()\n",
    "            output_path = os.path.join(output_dir, f\"global_{metric}_{qps_val}_{payload_val}.png\")\n",
    "            plt.savefig(output_path)\n",
    "            plt.close()\n",
    "            print(f\"Saved Global {metric_title} QPS {qps_val} {payload_val} plot to\", output_path)\n",
    "\n",
    "            # --- Control Plane Stacked Plot ---\n",
    "            agg_cp = df_subset_cp.groupby(['namespace', 'pod', 'container'])[metric].max().reset_index()\n",
    "            cp_pivot = agg_cp.pivot_table(index=['namespace', 'pod'], columns='container', values=metric, fill_value=0)       \n",
    "            plt.figure(figsize=(15, 10))\n",
    "            cp_pivot.plot(kind='bar', stacked=True)\n",
    "            plt.title(f\"gRPC Max Throughput: Control Plane Max {metric_title} (qps = {qps_val}, payload = {payload_val}) Usage per Container\")\n",
    "            plt.ylabel(ylabel)\n",
    "            plt.xlabel(\"Container\")\n",
    "            plt.legend(loc='best', fontsize='small', ncol=4)\n",
    "            plt.xticks(rotation=45, ha='right', fontsize=6)\n",
    "            plt.tight_layout()\n",
    "            output_path = os.path.join(output_dir, f\"control_plane_{metric}_{qps_val}_{payload_val}.png\")\n",
    "            plt.savefig(output_path)\n",
    "            plt.close()\n",
    "            print(f\"Saved Control Plane {metric_title} QPS {qps_val} {payload_val} plot to\", output_path)\n",
    "            \n",
    "            # --- Data Plane Plot ---\n",
    "            max_dp = df_subset_dp.groupby(['namespace', 'pod', 'container'])[metric].max()\n",
    "            labels_dp = [shorten_label(ns, pod, c) for ns, pod, c in max_dp.index]\n",
    "            max_dp.index = labels_dp\n",
    "            plt.figure(figsize=(15, 10))\n",
    "            max_dp.plot(kind='bar', color='tab:orange')\n",
    "            plt.title(f\"gRPC Max Throughput: Data Plane Max {metric_title} (qps = {qps_val}, payload = {payload_val}) Usage per Container\")\n",
    "            plt.ylabel(ylabel)\n",
    "            plt.xlabel(\"Container\")\n",
    "            plt.xticks(rotation=45, ha='right')\n",
    "            plt.tight_layout()\n",
    "            output_path = os.path.join(output_dir, f\"data_plane_{metric}_{qps_val}_{payload_val}.png\")\n",
    "            plt.savefig(output_path)\n",
    "            plt.close()\n",
    "            print(f\"Saved Data Plane {metric_title} QPS {qps_val} {payload_val} plot to\", output_path)"
   ]
  }
 ],
 "metadata": {
  "kernelspec": {
   "display_name": ".venv",
   "language": "python",
   "name": "python3"
  },
  "language_info": {
   "codemirror_mode": {
    "name": "ipython",
    "version": 3
   },
   "file_extension": ".py",
   "mimetype": "text/x-python",
   "name": "python",
   "nbconvert_exporter": "python",
   "pygments_lexer": "ipython3",
   "version": "3.12.8"
  }
 },
 "nbformat": 4,
 "nbformat_minor": 2
}
