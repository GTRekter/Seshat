{
 "cells": [
  {
   "cell_type": "markdown",
   "metadata": {},
   "source": [
    "# 📈 Metrics Analysis Notebook\n",
    "\n",
    "This notebook analyzes **CPU** and **Memory** resource usage during performance experiments using Fortio and a service mesh (Istio or Linkerd). It reads resource usage data exported in CSV format from the Kubernetes metrics API and generates visualizations per container.\n",
    "\n",
    "## 🧪 Experiments Covered\n",
    "\n",
    "1. **01 - HTTP Max Throughput**\n",
    "    - Measures max throughput with default Fortio settings.\n",
    "    - Generates average CPU and memory usage per container.\n",
    "\n",
    "2. **02 - HTTP Constant Throughput**\n",
    "    - Uses constant QPS values: 1, 1000, and 10000.\n",
    "    - Shows how resource usage changes with increasing load.\n",
    "\n",
    "3. **03 - HTTP Payload Variation**\n",
    "    - Fixed QPS (100) with payload sizes: 0, 1000, and 10000 bytes.\n",
    "    - Compares container resource usage with different payload sizes.\n",
    "\n",
    "## 📁 Expected Input\n",
    "\n",
    "- CSV files under `../results/<experiment>/metrics_<mesh>_<qps>_<payload>_<timestamp>.csv`\n",
    "- Structure:\n",
    "    - `timestamp, namespace, pod, container, cpu(n), memory(Ki)`\n",
    "    - Plus derived fields: `cpu` (as float), `memory` (as float)\n",
    "\n",
    "## 📉 Output\n",
    "\n",
    "- CPU and Memory bar charts per container for each experiment setup.\n",
    "- Output PNGs are saved in:\n",
    "    - `../diagrams/<experiment>/cpu_*.png`\n",
    "    - `../diagrams/<experiment>/memory_*.png`\n",
    "\n",
    "> 📌 **Note**: CPU values are shown in nanocores, and memory in Ki."
   ]
  },
  {
   "cell_type": "code",
   "execution_count": 1,
   "metadata": {},
   "outputs": [],
   "source": [
    "# %% [code] Import required libraries\n",
    "import os\n",
    "import glob\n",
    "import pandas as pd\n",
    "import matplotlib.pyplot as plt\n",
    "\n",
    "# Use a default matplotlib style\n",
    "plt.style.use('default')"
   ]
  },
  {
   "cell_type": "code",
   "execution_count": 2,
   "metadata": {},
   "outputs": [],
   "source": [
    "def convert_cpu(cpu_str):\n",
    "    \"\"\"\n",
    "    Convert CPU usage from a string with a trailing 'n' (nanocores) \n",
    "    to a float representing millicores (m). (1 millicore = 1e6 nanocores)\n",
    "    \"\"\"\n",
    "    try:\n",
    "        nanocores = float(cpu_str.rstrip('n'))\n",
    "        millicores = nanocores / 1e6 \n",
    "        return millicores\n",
    "    except Exception as e:\n",
    "        print(f\"Error converting CPU value '{cpu_str}': {e}\")\n",
    "        return None\n",
    "\n",
    "\n",
    "def convert_memory(mem_str):\n",
    "    \"\"\"\n",
    "    Convert memory usage from a string (which might be in Ki, Mi, or Gi) to a float representing megabytes (MB).\n",
    "    \n",
    "    Conversions:\n",
    "    - If the value ends with \"Ki\": MB = (numeric value) / 1024.\n",
    "    - If the value ends with \"Mi\": MB = numeric value.\n",
    "    - If the value ends with \"Gi\": MB = (numeric value) * 1024.\n",
    "    - If no known suffix, attempt direct conversion.\n",
    "    \"\"\"\n",
    "    try:\n",
    "        if mem_str.endswith(\"Ki\"):\n",
    "            value = float(mem_str[:-2])\n",
    "            mb = value / 1024.0\n",
    "            return mb\n",
    "        elif mem_str.endswith(\"Mi\"):\n",
    "            value = float(mem_str[:-2])\n",
    "            # Assuming 1 MiB is reported as 1 MB\n",
    "            return value\n",
    "        elif mem_str.endswith(\"Gi\"):\n",
    "            value = float(mem_str[:-2])\n",
    "            return value * 1024.0\n",
    "        else:\n",
    "            # If no unit present, try converting directly\n",
    "            return float(mem_str)\n",
    "    except Exception as e:\n",
    "        print(f\"Error converting memory value '{mem_str}': {e}\")\n",
    "        return None\n"
   ]
  },
  {
   "cell_type": "code",
   "execution_count": 3,
   "metadata": {},
   "outputs": [],
   "source": [
    "def load_metrics_csv(file_path):\n",
    "    \"\"\"\n",
    "    Reads a CSV file with resource metrics, parses the timestamp, and converts the raw CPU\n",
    "    (nanocores remain unchanged) and memory values (in Ki).\n",
    "    \n",
    "    Returns:\n",
    "        A pandas DataFrame with columns:\n",
    "        - timestamp\n",
    "        - namespace\n",
    "        - pod\n",
    "        - container\n",
    "        - cpu(n) (original)\n",
    "        - memory(Ki) (original)\n",
    "        - cpu: numeric CPU in millicore\n",
    "        - memory: numeric memory in MB\n",
    "    \"\"\"\n",
    "    df = pd.read_csv(file_path)\n",
    "    df['timestamp'] = pd.to_datetime(df['timestamp'])\n",
    "    df['cpu'] = df['cpu(n)'].apply(convert_cpu)\n",
    "    df['memory'] = df['memory(Ki)'].apply(convert_memory)\n",
    "    return df\n",
    "\n",
    "def extract_mesh_qps_payload(filename):\n",
    "    \"\"\"\n",
    "    Extract mesh, qps, and payload from a filename assumed to be formatted as:\n",
    "      metrics_<mesh>_<qps>_<payload>_<timestamp>.csv\n",
    "    Returns a tuple: (mesh (str), qps (int), payload (int))\n",
    "    \"\"\"\n",
    "    base = os.path.basename(filename)\n",
    "    parts = base.replace(\"metrics_\", \"\").replace(\".csv\", \"\").split(\"_\")\n",
    "    if len(parts) < 3:\n",
    "        return None, None, None\n",
    "    mesh, qps, payload = parts[0], parts[1], parts[2]\n",
    "    return mesh, int(qps), int(payload)\n",
    "\n",
    "def shorten_label(ns, pod, container, max_len=18):\n",
    "    \"\"\"\n",
    "    Shortens the namespace, pod, and container names to a maximum length.\n",
    "    If the name exceeds max_len, it truncates the string and appends '..'.\n",
    "    Returns a formatted string: \"ns/pod/container\".\n",
    "    \"\"\"\n",
    "    ns_abbr = ns if len(ns) <= max_len else ns[:max_len - 2] + '..'\n",
    "    pod_abbr = pod if len(pod) <= max_len else pod[:max_len - 2] + '..'\n",
    "    container_abbr = container if len(container) <= max_len else container[:max_len - 2] + '..'\n",
    "    return f\"{ns_abbr}/{pod_abbr}/{container_abbr}\""
   ]
  },
  {
   "cell_type": "code",
   "execution_count": 4,
   "metadata": {},
   "outputs": [
    {
     "name": "stdout",
     "output_type": "stream",
     "text": [
      "Aggregated stats for 01_http_max_throughput:\n",
      "                                                                                      cpu  \\\n",
      "                                                                                     mean   \n",
      "namespace              pod                                     container                    \n",
      "istio-system           istiod-76fc5bc774-rh7rx                 discovery         3.282326   \n",
      "                       ztunnel-h8glz                           istio-proxy       0.076448   \n",
      "                       ztunnel-p2z94                           istio-proxy     454.077155   \n",
      "linkerd                linkerd-destination-78c996c95b-znmwg    destination       2.057460   \n",
      "                                                               linkerd-proxy     0.586110   \n",
      "                                                               policy            0.891808   \n",
      "                                                               sp-validator      0.593144   \n",
      "                       linkerd-identity-5886fd48d6-xhlps       identity          0.155044   \n",
      "                                                               linkerd-proxy     0.280749   \n",
      "                       linkerd-proxy-injector-594bccdff8-qcfbs linkerd-proxy     0.290905   \n",
      "                                                               proxy-injector    1.841100   \n",
      "service-mesh-benchmark fortio-client-694dcf998-x282z           linkerd-proxy   558.205018   \n",
      "                       fortio-server-db7f5ff86-5trrk           linkerd-proxy   510.935484   \n",
      "                       waypoint-69787cd8f5-k6mwn               istio-proxy     781.849512   \n",
      "\n",
      "                                                                                           \\\n",
      "                                                                                   median   \n",
      "namespace              pod                                     container                    \n",
      "istio-system           istiod-76fc5bc774-rh7rx                 discovery         1.361996   \n",
      "                       ztunnel-h8glz                           istio-proxy       0.031526   \n",
      "                       ztunnel-p2z94                           istio-proxy     599.464702   \n",
      "linkerd                linkerd-destination-78c996c95b-znmwg    destination       0.771508   \n",
      "                                                               linkerd-proxy     0.396837   \n",
      "                                                               policy            0.165080   \n",
      "                                                               sp-validator      0.117378   \n",
      "                       linkerd-identity-5886fd48d6-xhlps       identity          0.144160   \n",
      "                                                               linkerd-proxy     0.231875   \n",
      "                       linkerd-proxy-injector-594bccdff8-qcfbs linkerd-proxy     0.221469   \n",
      "                                                               proxy-injector    0.184965   \n",
      "service-mesh-benchmark fortio-client-694dcf998-x282z           linkerd-proxy   728.516025   \n",
      "                       fortio-server-db7f5ff86-5trrk           linkerd-proxy   635.480764   \n",
      "                       waypoint-69787cd8f5-k6mwn               istio-proxy     979.438914   \n",
      "\n",
      "                                                                                           \\\n",
      "                                                                                      std   \n",
      "namespace              pod                                     container                    \n",
      "istio-system           istiod-76fc5bc774-rh7rx                 discovery         2.696213   \n",
      "                       ztunnel-h8glz                           istio-proxy       0.121802   \n",
      "                       ztunnel-p2z94                           istio-proxy     178.480291   \n",
      "linkerd                linkerd-destination-78c996c95b-znmwg    destination       1.832762   \n",
      "                                                               linkerd-proxy     0.270500   \n",
      "                                                               policy            1.019172   \n",
      "                                                               sp-validator      0.692727   \n",
      "                       linkerd-identity-5886fd48d6-xhlps       identity          0.050712   \n",
      "                                                               linkerd-proxy     0.078815   \n",
      "                       linkerd-proxy-injector-594bccdff8-qcfbs linkerd-proxy     0.103199   \n",
      "                                                               proxy-injector    2.364463   \n",
      "service-mesh-benchmark fortio-client-694dcf998-x282z           linkerd-proxy   235.715231   \n",
      "                       fortio-server-db7f5ff86-5trrk           linkerd-proxy   173.888970   \n",
      "                       waypoint-69787cd8f5-k6mwn               istio-proxy     237.202545   \n",
      "\n",
      "                                                                                  memory  \\\n",
      "                                                                                    mean   \n",
      "namespace              pod                                     container                   \n",
      "istio-system           istiod-76fc5bc774-rh7rx                 discovery       49.552167   \n",
      "                       ztunnel-h8glz                           istio-proxy      1.597971   \n",
      "                       ztunnel-p2z94                           istio-proxy      4.946510   \n",
      "linkerd                linkerd-destination-78c996c95b-znmwg    destination     17.671802   \n",
      "                                                               linkerd-proxy   13.988573   \n",
      "                                                               policy           3.916180   \n",
      "                                                               sp-validator    15.434652   \n",
      "                       linkerd-identity-5886fd48d6-xhlps       identity        15.513544   \n",
      "                                                               linkerd-proxy   11.819692   \n",
      "                       linkerd-proxy-injector-594bccdff8-qcfbs linkerd-proxy   11.824949   \n",
      "                                                               proxy-injector  16.532455   \n",
      "service-mesh-benchmark fortio-client-694dcf998-x282z           linkerd-proxy   14.465902   \n",
      "                       fortio-server-db7f5ff86-5trrk           linkerd-proxy   15.107440   \n",
      "                       waypoint-69787cd8f5-k6mwn               istio-proxy     43.229681   \n",
      "\n",
      "                                                                                          \\\n",
      "                                                                                  median   \n",
      "namespace              pod                                     container                   \n",
      "istio-system           istiod-76fc5bc774-rh7rx                 discovery       50.156250   \n",
      "                       ztunnel-h8glz                           istio-proxy      1.597656   \n",
      "                       ztunnel-p2z94                           istio-proxy      5.167969   \n",
      "linkerd                linkerd-destination-78c996c95b-znmwg    destination     17.667969   \n",
      "                                                               linkerd-proxy   13.988281   \n",
      "                                                               policy           3.917969   \n",
      "                                                               sp-validator    15.433594   \n",
      "                       linkerd-identity-5886fd48d6-xhlps       identity        15.539062   \n",
      "                                                               linkerd-proxy   11.816406   \n",
      "                       linkerd-proxy-injector-594bccdff8-qcfbs linkerd-proxy   11.820312   \n",
      "                                                               proxy-injector  16.683594   \n",
      "service-mesh-benchmark fortio-client-694dcf998-x282z           linkerd-proxy   14.363281   \n",
      "                       fortio-server-db7f5ff86-5trrk           linkerd-proxy   15.156250   \n",
      "                       waypoint-69787cd8f5-k6mwn               istio-proxy     43.234375   \n",
      "\n",
      "                                                                                         \n",
      "                                                                                    std  \n",
      "namespace              pod                                     container                 \n",
      "istio-system           istiod-76fc5bc774-rh7rx                 discovery       2.887346  \n",
      "                       ztunnel-h8glz                           istio-proxy     0.001543  \n",
      "                       ztunnel-p2z94                           istio-proxy     0.699751  \n",
      "linkerd                linkerd-destination-78c996c95b-znmwg    destination     0.023147  \n",
      "                                                               linkerd-proxy   0.003068  \n",
      "                                                               policy          0.008438  \n",
      "                                                               sp-validator    0.001744  \n",
      "                       linkerd-identity-5886fd48d6-xhlps       identity        0.038458  \n",
      "                                                               linkerd-proxy   0.009540  \n",
      "                       linkerd-proxy-injector-594bccdff8-qcfbs linkerd-proxy   0.011321  \n",
      "                                                               proxy-injector  0.259235  \n",
      "service-mesh-benchmark fortio-client-694dcf998-x282z           linkerd-proxy   0.186197  \n",
      "                       fortio-server-db7f5ff86-5trrk           linkerd-proxy   0.150383  \n",
      "                       waypoint-69787cd8f5-k6mwn               istio-proxy     0.009134  \n",
      "Saved Global CPU plot to ../diagrams/01_http_max_throughput/global_cpu_0.png\n",
      "Saved Control Plane CPU stacked plot to ../diagrams/01_http_max_throughput/control_plane_cpu_0.png\n",
      "Saved Data Plane CPU plot to ../diagrams/01_http_max_throughput/data_plane_cpu_0.png\n",
      "Saved Global Memory plot to ../diagrams/01_http_max_throughput/global_memory_0.png\n",
      "Saved Control Plane Memory stacked plot to ../diagrams/01_http_max_throughput/control_plane_memory_0.png\n",
      "Saved Data Plane Memory plot to ../diagrams/01_http_max_throughput/data_plane_memory_0.png\n"
     ]
    },
    {
     "data": {
      "text/plain": [
       "<Figure size 1500x1000 with 0 Axes>"
      ]
     },
     "metadata": {},
     "output_type": "display_data"
    },
    {
     "data": {
      "text/plain": [
       "<Figure size 1500x1000 with 0 Axes>"
      ]
     },
     "metadata": {},
     "output_type": "display_data"
    }
   ],
   "source": [
    "# %% [code] Process 01_http_max_throughput experiment data and generate aggregated and stacked diagrams\n",
    "\n",
    "# Set path to the 01_http_max_throughput experiment directory\n",
    "experiment_dir = os.path.join(\"..\", \"results\", \"01_http_max_throughput\")\n",
    "output_dir = os.path.join(\"..\", \"diagrams\", \"01_http_max_throughput\")\n",
    "csv_files = glob.glob(os.path.join(experiment_dir, 'metrics_*.csv'))\n",
    "os.makedirs(output_dir, exist_ok=True)\n",
    "\n",
    "if not csv_files:\n",
    "    print(\"No CSV files found in:\", experiment_dir)\n",
    "else:\n",
    "    # Load and combine all CSV files\n",
    "    df_list = [load_metrics_csv(file) for file in csv_files]\n",
    "    df_exp = pd.concat(df_list, ignore_index=True)\n",
    "    # Drop rows with NaN values in CPU or memory\n",
    "    df_exp = df_exp.dropna(subset=['cpu', 'memory'])\n",
    "    # Group data based on the control-plane only.\n",
    "    df_cp = df_exp[df_exp['group'] == 'control-plane'].copy()\n",
    "    # Group data based on the data-plane only.\n",
    "    df_dp = df_exp[df_exp['group'] == 'data-plane'].copy()\n",
    "    # Aggregate overall statistics per namespace/pod/container.\n",
    "    agg_stats = df_exp.groupby(['namespace', 'pod', 'container'])[['cpu', 'memory']].agg(['mean', 'median', 'std'])\n",
    "    print(\"Aggregated stats for 01_http_max_throughput:\")\n",
    "    print(agg_stats)\n",
    "\n",
    "    for metric, ylabel in [('cpu', \"CPU Usage (millicore)\"), ('memory', \"Memory Usage (MB)\")]:\n",
    "        max_metric = df_exp.groupby(['namespace', 'pod', 'container'])[metric].max()\n",
    "        labels = [shorten_label(ns, pod, c) for ns, pod, c in max_metric.index]\n",
    "        metric_title = \"CPU\" if metric == \"cpu\" else \"Memory\"\n",
    "\n",
    "        # --- Global Plot ---\n",
    "        max_global = df_exp.groupby(['namespace', 'pod', 'container'])[metric].max()\n",
    "        labels_global = [shorten_label(ns, pod, c) for ns, pod, c in max_global.index]\n",
    "        max_global.index = labels_global    \n",
    "        plt.figure(figsize=(15, 10))\n",
    "        max_global.plot(kind='bar', color='tab:orange')\n",
    "        plt.title(f\"HTTP Max Throughput: Max {metric_title} Usage per Container\")\n",
    "        plt.ylabel(ylabel)\n",
    "        plt.xticks(rotation=45, ha='right')\n",
    "        plt.tight_layout()\n",
    "        output_path = os.path.join(output_dir, f\"global_{metric}_0.png\")\n",
    "        plt.savefig(output_path)\n",
    "        plt.close()\n",
    "        print(f\"Saved Global {metric_title} plot to\", output_path)\n",
    "\n",
    "        # --- Control Plane Stacked Plot ---\n",
    "        agg_cp = df_cp.groupby(['namespace', 'pod', 'container'])[metric].max().reset_index()\n",
    "        cp_pivot = agg_cp.pivot_table(index=['namespace', 'pod'], columns='container', values=metric, fill_value=0)       \n",
    "        plt.figure(figsize=(15, 10))\n",
    "        cp_pivot.plot(kind='bar', stacked=True)\n",
    "        plt.title(f\"HTTP Max Throughput: Control Plane Max {metric_title} Usage per Container\")\n",
    "        plt.ylabel(ylabel)\n",
    "        plt.legend(loc='best', fontsize='small', ncol=4)\n",
    "        plt.xticks(rotation=45, ha='right', fontsize=6)\n",
    "        plt.tight_layout()\n",
    "        output_path = os.path.join(output_dir, f\"control_plane_{metric}_0.png\")\n",
    "        plt.savefig(output_path)\n",
    "        plt.close()\n",
    "        print(f\"Saved Control Plane {metric_title} stacked plot to\", output_path)\n",
    "        \n",
    "        # --- Data Plane Plot ---\n",
    "        max_dp = df_dp.groupby(['namespace', 'pod', 'container'])[metric].max()\n",
    "        labels_dp = [shorten_label(ns, pod, c) for ns, pod, c in max_dp.index]\n",
    "        max_dp.index = labels_dp\n",
    "        plt.figure(figsize=(15, 10))\n",
    "        max_dp.plot(kind='bar', color='tab:orange')\n",
    "        plt.title(f\"HTTP Max Throughput: Data Plane Max {metric_title} Usage per Container\")\n",
    "        plt.ylabel(ylabel)\n",
    "        plt.xticks(rotation=45, ha='right')\n",
    "        plt.tight_layout()\n",
    "        output_path = os.path.join(output_dir, f\"data_plane_{metric}_0.png\")\n",
    "        plt.savefig(output_path)\n",
    "        plt.close()\n",
    "        print(f\"Saved Data Plane {metric_title} plot to\", output_path)"
   ]
  },
  {
   "cell_type": "code",
   "execution_count": 5,
   "metadata": {},
   "outputs": [
    {
     "name": "stdout",
     "output_type": "stream",
     "text": [
      "Saved Global CPU QPS 1 plot to ../diagrams/02_http_constant_throughput/global_cpu_1.png\n",
      "Saved Control Plane CPU QPS 1 plot to ../diagrams/02_http_constant_throughput/control_plane_cpu_1.png\n",
      "Saved Data Plane CPU QPS 1 plot to ../diagrams/02_http_constant_throughput/data_plane_cpu_1.png\n",
      "Saved Global Memory QPS 1 plot to ../diagrams/02_http_constant_throughput/global_memory_1.png\n",
      "Saved Control Plane Memory QPS 1 plot to ../diagrams/02_http_constant_throughput/control_plane_memory_1.png\n",
      "Saved Data Plane Memory QPS 1 plot to ../diagrams/02_http_constant_throughput/data_plane_memory_1.png\n",
      "Saved Global CPU QPS 1000 plot to ../diagrams/02_http_constant_throughput/global_cpu_1000.png\n",
      "Saved Control Plane CPU QPS 1000 plot to ../diagrams/02_http_constant_throughput/control_plane_cpu_1000.png\n",
      "Saved Data Plane CPU QPS 1000 plot to ../diagrams/02_http_constant_throughput/data_plane_cpu_1000.png\n",
      "Saved Global Memory QPS 1000 plot to ../diagrams/02_http_constant_throughput/global_memory_1000.png\n",
      "Saved Control Plane Memory QPS 1000 plot to ../diagrams/02_http_constant_throughput/control_plane_memory_1000.png\n",
      "Saved Data Plane Memory QPS 1000 plot to ../diagrams/02_http_constant_throughput/data_plane_memory_1000.png\n",
      "Saved Global CPU QPS 10000 plot to ../diagrams/02_http_constant_throughput/global_cpu_10000.png\n",
      "Saved Control Plane CPU QPS 10000 plot to ../diagrams/02_http_constant_throughput/control_plane_cpu_10000.png\n",
      "Saved Data Plane CPU QPS 10000 plot to ../diagrams/02_http_constant_throughput/data_plane_cpu_10000.png\n",
      "Saved Global Memory QPS 10000 plot to ../diagrams/02_http_constant_throughput/global_memory_10000.png\n",
      "Saved Control Plane Memory QPS 10000 plot to ../diagrams/02_http_constant_throughput/control_plane_memory_10000.png\n",
      "Saved Data Plane Memory QPS 10000 plot to ../diagrams/02_http_constant_throughput/data_plane_memory_10000.png\n",
      "Saved Global CPU QPS 100000 plot to ../diagrams/02_http_constant_throughput/global_cpu_100000.png\n",
      "Saved Control Plane CPU QPS 100000 plot to ../diagrams/02_http_constant_throughput/control_plane_cpu_100000.png\n",
      "Saved Data Plane CPU QPS 100000 plot to ../diagrams/02_http_constant_throughput/data_plane_cpu_100000.png\n",
      "Saved Global Memory QPS 100000 plot to ../diagrams/02_http_constant_throughput/global_memory_100000.png\n",
      "Saved Control Plane Memory QPS 100000 plot to ../diagrams/02_http_constant_throughput/control_plane_memory_100000.png\n",
      "Saved Data Plane Memory QPS 100000 plot to ../diagrams/02_http_constant_throughput/data_plane_memory_100000.png\n",
      "Saved Global CPU QPS 1000000 plot to ../diagrams/02_http_constant_throughput/global_cpu_1000000.png\n",
      "Saved Control Plane CPU QPS 1000000 plot to ../diagrams/02_http_constant_throughput/control_plane_cpu_1000000.png\n",
      "Saved Data Plane CPU QPS 1000000 plot to ../diagrams/02_http_constant_throughput/data_plane_cpu_1000000.png\n",
      "Saved Global Memory QPS 1000000 plot to ../diagrams/02_http_constant_throughput/global_memory_1000000.png\n",
      "Saved Control Plane Memory QPS 1000000 plot to ../diagrams/02_http_constant_throughput/control_plane_memory_1000000.png\n",
      "Saved Data Plane Memory QPS 1000000 plot to ../diagrams/02_http_constant_throughput/data_plane_memory_1000000.png\n"
     ]
    },
    {
     "data": {
      "text/plain": [
       "<Figure size 1500x1000 with 0 Axes>"
      ]
     },
     "metadata": {},
     "output_type": "display_data"
    },
    {
     "data": {
      "text/plain": [
       "<Figure size 1500x1000 with 0 Axes>"
      ]
     },
     "metadata": {},
     "output_type": "display_data"
    },
    {
     "data": {
      "text/plain": [
       "<Figure size 1500x1000 with 0 Axes>"
      ]
     },
     "metadata": {},
     "output_type": "display_data"
    },
    {
     "data": {
      "text/plain": [
       "<Figure size 1500x1000 with 0 Axes>"
      ]
     },
     "metadata": {},
     "output_type": "display_data"
    },
    {
     "data": {
      "text/plain": [
       "<Figure size 1500x1000 with 0 Axes>"
      ]
     },
     "metadata": {},
     "output_type": "display_data"
    },
    {
     "data": {
      "text/plain": [
       "<Figure size 1500x1000 with 0 Axes>"
      ]
     },
     "metadata": {},
     "output_type": "display_data"
    },
    {
     "data": {
      "text/plain": [
       "<Figure size 1500x1000 with 0 Axes>"
      ]
     },
     "metadata": {},
     "output_type": "display_data"
    },
    {
     "data": {
      "text/plain": [
       "<Figure size 1500x1000 with 0 Axes>"
      ]
     },
     "metadata": {},
     "output_type": "display_data"
    },
    {
     "data": {
      "text/plain": [
       "<Figure size 1500x1000 with 0 Axes>"
      ]
     },
     "metadata": {},
     "output_type": "display_data"
    },
    {
     "data": {
      "text/plain": [
       "<Figure size 1500x1000 with 0 Axes>"
      ]
     },
     "metadata": {},
     "output_type": "display_data"
    }
   ],
   "source": [
    "# %% [code] Process 02_http_constant_throughput experiment data with QPS information and save diagrams\n",
    "\n",
    "# Set paths for the results and output diagrams directories\n",
    "results_dir = os.path.join(\"..\", \"results\", \"02_http_constant_throughput\")\n",
    "output_dir  = os.path.join(\"..\", \"diagrams\", \"02_http_constant_throughput\")\n",
    "csv_files = glob.glob(os.path.join(results_dir, 'metrics_*.csv'))\n",
    "os.makedirs(output_dir, exist_ok=True)\n",
    "\n",
    "if not csv_files:\n",
    "    print(\"No CSV files found in:\", results_dir)\n",
    "else:\n",
    "    df_list = []\n",
    "    for file in csv_files:\n",
    "        df = load_metrics_csv(file)\n",
    "        # Extract the qps value from the filename using extract_mesh_qps_payload\n",
    "        _, qps, _ = extract_mesh_qps_payload(file)\n",
    "        df['qps'] = qps\n",
    "        df_list.append(df)\n",
    "    df_exp = pd.concat(df_list, ignore_index=True)\n",
    "    # Drop rows with missing values to avoid plotting issues\n",
    "    df_exp = df_exp.dropna(subset=['cpu', 'memory', 'qps'])\n",
    "    # Get the unique QPS values present in the data (sorted)\n",
    "    unique_qps = sorted(df_exp['qps'].unique())\n",
    "    for qps_val in unique_qps:\n",
    "        df_qps = df_exp[df_exp['qps'] == qps_val]\n",
    "        df_qps_cp = df_qps[df_qps['group'] == 'control-plane']\n",
    "        df_qps_dp = df_qps[df_qps['group'] == 'data-plane']\n",
    "\n",
    "        for metric, ylabel in [('cpu', \"CPU Usage (millicore)\"), ('memory', \"Memory Usage (MB)\")]:\n",
    "            metric_title = \"CPU\" if metric == \"cpu\" else \"Memory\"\n",
    "\n",
    "            # --- Global Plot ---\n",
    "            max_global = df_qps.groupby(['namespace', 'pod', 'container'])[metric].max()\n",
    "            labels_global = [shorten_label(ns, pod, c) for ns, pod, c in max_global.index]\n",
    "            max_global.index = labels_global    \n",
    "            plt.figure(figsize=(15, 10))\n",
    "            max_global.plot(kind='bar', color='tab:orange')\n",
    "            plt.title(f\"HTTP Max Throughput: Max {metric_title} (qps = {qps_val}) Usage per Container\")\n",
    "            plt.ylabel(ylabel)\n",
    "            plt.xlabel(\"Container\")\n",
    "            plt.xticks(rotation=45, ha='right')\n",
    "            plt.tight_layout()\n",
    "            output_path = os.path.join(output_dir, f\"global_{metric}_{qps_val}.png\")\n",
    "            plt.savefig(output_path)\n",
    "            plt.close()\n",
    "            print(f\"Saved Global {metric_title} QPS {qps_val} plot to\", output_path)\n",
    "\n",
    "            # --- Control Plane Stacked Plot ---\n",
    "            agg_cp = df_qps_cp.groupby(['namespace', 'pod', 'container'])[metric].max().reset_index()\n",
    "            cp_pivot = agg_cp.pivot_table(index=['namespace', 'pod'], columns='container', values=metric, fill_value=0)       \n",
    "            plt.figure(figsize=(15, 10))\n",
    "            cp_pivot.plot(kind='bar', stacked=True)\n",
    "            plt.title(f\"HTTP Max Throughput: Control Plane Max {metric_title} (qps = {qps_val}) Usage per Container\")\n",
    "            plt.ylabel(ylabel)\n",
    "            plt.xlabel(\"Container\")\n",
    "            plt.legend(loc='best', fontsize='small', ncol=4)\n",
    "            plt.xticks(rotation=45, ha='right', fontsize=6)\n",
    "            plt.tight_layout()\n",
    "            output_path = os.path.join(output_dir, f\"control_plane_{metric}_{qps_val}.png\")\n",
    "            plt.savefig(output_path)\n",
    "            plt.close()\n",
    "            print(f\"Saved Control Plane {metric_title} QPS {qps_val} plot to\", output_path)\n",
    "            \n",
    "            # --- Data Plane Plot ---\n",
    "            max_dp = df_dp.groupby(['namespace', 'pod', 'container'])[metric].max()\n",
    "            labels_dp = [shorten_label(ns, pod, c) for ns, pod, c in max_dp.index]\n",
    "            max_dp.index = labels_dp\n",
    "            plt.figure(figsize=(15, 10))\n",
    "            max_dp.plot(kind='bar', color='tab:orange')\n",
    "            plt.title(f\"HTTP Max Throughput: Data Plane Max {metric_title} (qps = {qps_val}) Usage per Container\")\n",
    "            plt.ylabel(ylabel)\n",
    "            plt.xlabel(\"Container\")\n",
    "            plt.xticks(rotation=45, ha='right')\n",
    "            plt.tight_layout()\n",
    "            output_path = os.path.join(output_dir, f\"data_plane_{metric}_{qps_val}.png\")\n",
    "            plt.savefig(output_path)\n",
    "            plt.close()\n",
    "            print(f\"Saved Data Plane {metric_title} QPS {qps_val} plot to\", output_path)\n"
   ]
  },
  {
   "cell_type": "code",
   "execution_count": 6,
   "metadata": {},
   "outputs": [
    {
     "name": "stdout",
     "output_type": "stream",
     "text": [
      "Saved Global CPU QPS 1000 10000 plot to ../diagrams/03_http_payload/global_cpu_1000_10000.png\n",
      "Saved Control Plane CPU QPS 1000 10000 plot to ../diagrams/03_http_payload/control_plane_cpu_1000_10000.png\n",
      "Saved Data Plane CPU QPS 1000 10000 plot to ../diagrams/03_http_payload/data_plane_cpu_1000_10000.png\n",
      "Saved Global Memory QPS 1000 10000 plot to ../diagrams/03_http_payload/global_memory_1000_10000.png\n",
      "Saved Control Plane Memory QPS 1000 10000 plot to ../diagrams/03_http_payload/control_plane_memory_1000_10000.png\n",
      "Saved Data Plane Memory QPS 1000 10000 plot to ../diagrams/03_http_payload/data_plane_memory_1000_10000.png\n",
      "Saved Global CPU QPS 1000 100000 plot to ../diagrams/03_http_payload/global_cpu_1000_100000.png\n",
      "Saved Control Plane CPU QPS 1000 100000 plot to ../diagrams/03_http_payload/control_plane_cpu_1000_100000.png\n",
      "Saved Data Plane CPU QPS 1000 100000 plot to ../diagrams/03_http_payload/data_plane_cpu_1000_100000.png\n",
      "Saved Global Memory QPS 1000 100000 plot to ../diagrams/03_http_payload/global_memory_1000_100000.png\n",
      "Saved Control Plane Memory QPS 1000 100000 plot to ../diagrams/03_http_payload/control_plane_memory_1000_100000.png\n",
      "Saved Data Plane Memory QPS 1000 100000 plot to ../diagrams/03_http_payload/data_plane_memory_1000_100000.png\n",
      "Saved Global CPU QPS 1000 1000000 plot to ../diagrams/03_http_payload/global_cpu_1000_1000000.png\n",
      "Saved Control Plane CPU QPS 1000 1000000 plot to ../diagrams/03_http_payload/control_plane_cpu_1000_1000000.png\n",
      "Saved Data Plane CPU QPS 1000 1000000 plot to ../diagrams/03_http_payload/data_plane_cpu_1000_1000000.png\n",
      "Saved Global Memory QPS 1000 1000000 plot to ../diagrams/03_http_payload/global_memory_1000_1000000.png\n",
      "Saved Control Plane Memory QPS 1000 1000000 plot to ../diagrams/03_http_payload/control_plane_memory_1000_1000000.png\n",
      "Saved Data Plane Memory QPS 1000 1000000 plot to ../diagrams/03_http_payload/data_plane_memory_1000_1000000.png\n"
     ]
    },
    {
     "data": {
      "text/plain": [
       "<Figure size 1500x1000 with 0 Axes>"
      ]
     },
     "metadata": {},
     "output_type": "display_data"
    },
    {
     "data": {
      "text/plain": [
       "<Figure size 1500x1000 with 0 Axes>"
      ]
     },
     "metadata": {},
     "output_type": "display_data"
    },
    {
     "data": {
      "text/plain": [
       "<Figure size 1500x1000 with 0 Axes>"
      ]
     },
     "metadata": {},
     "output_type": "display_data"
    },
    {
     "data": {
      "text/plain": [
       "<Figure size 1500x1000 with 0 Axes>"
      ]
     },
     "metadata": {},
     "output_type": "display_data"
    },
    {
     "data": {
      "text/plain": [
       "<Figure size 1500x1000 with 0 Axes>"
      ]
     },
     "metadata": {},
     "output_type": "display_data"
    },
    {
     "data": {
      "text/plain": [
       "<Figure size 1500x1000 with 0 Axes>"
      ]
     },
     "metadata": {},
     "output_type": "display_data"
    }
   ],
   "source": [
    "# %% [code] Process 03_http_payload experiment data and plot per container (using payload)\n",
    "\n",
    "# Set paths for the results and output diagrams directories\n",
    "experiment_dir = os.path.join(\"..\", \"results\", \"03_http_payload\")\n",
    "output_dir  = os.path.join(\"..\", \"diagrams\", \"03_http_payload\")\n",
    "csv_files = glob.glob(os.path.join(experiment_dir, 'metrics_*.csv'))\n",
    "os.makedirs(output_dir, exist_ok=True)\n",
    "\n",
    "if not csv_files:\n",
    "    print(\"No CSV files found in:\", experiment_dir)\n",
    "else:\n",
    "    # Load each CSV and extract additional parameters (mesh, qps, payload)\n",
    "    df_list = []\n",
    "    for file in csv_files:\n",
    "        df = load_metrics_csv(file)\n",
    "        mesh, qps, payload = extract_mesh_qps_payload(file)\n",
    "        df['mesh'] = mesh\n",
    "        df['qps'] = qps\n",
    "        df['payload'] = payload\n",
    "        df_list.append(df)\n",
    "    df_exp = pd.concat(df_list, ignore_index=True)\n",
    "    \n",
    "    # Identify unique qps and payload values\n",
    "    unique_qps = sorted(df_exp['qps'].dropna().unique())\n",
    "    unique_payload = sorted(df_exp['payload'].dropna().unique())\n",
    "    qps_val = unique_qps[0] if unique_qps else None\n",
    "    for payload_val in unique_payload:\n",
    "        df_subset = df_exp[df_exp['payload'] == payload_val]\n",
    "        df_subset_cp = df_subset[df_subset['group'] == 'control-plane']\n",
    "        df_subset_dp = df_subset[df_subset['group'] == 'data-plane']\n",
    "\n",
    "        for metric, ylabel in [('cpu', \"CPU Usage (millicore)\"), ('memory', \"Memory Usage (MB)\")]:\n",
    "            metric_title = \"CPU\" if metric == \"cpu\" else \"Memory\"\n",
    "\n",
    "            # --- Global Plot ---\n",
    "            max_global = df_subset.groupby(['namespace', 'pod', 'container'])[metric].max()\n",
    "            labels_global = [shorten_label(ns, pod, c) for ns, pod, c in max_global.index]\n",
    "            max_global.index = labels_global    \n",
    "            plt.figure(figsize=(15, 10))\n",
    "            max_global.plot(kind='bar', color='tab:orange')\n",
    "            plt.title(f\"HTTP Max Throughput: Max {metric_title} (qps = {qps_val}, payload = {payload_val}) Usage per Container\")\n",
    "            plt.ylabel(ylabel)\n",
    "            plt.xlabel(\"Container\")\n",
    "            plt.xticks(rotation=45, ha='right')\n",
    "            plt.tight_layout()\n",
    "            output_path = os.path.join(output_dir, f\"global_{metric}_{qps_val}_{payload_val}.png\")\n",
    "            plt.savefig(output_path)\n",
    "            plt.close()\n",
    "            print(f\"Saved Global {metric_title} QPS {qps_val} {payload_val} plot to\", output_path)\n",
    "\n",
    "            # --- Control Plane Stacked Plot ---\n",
    "            agg_cp = df_subset_cp.groupby(['namespace', 'pod', 'container'])[metric].max().reset_index()\n",
    "            cp_pivot = agg_cp.pivot_table(index=['namespace', 'pod'], columns='container', values=metric, fill_value=0)       \n",
    "            plt.figure(figsize=(15, 10))\n",
    "            cp_pivot.plot(kind='bar', stacked=True)\n",
    "            plt.title(f\"HTTP Max Throughput: Control Plane Max {metric_title} (qps = {qps_val}, payload = {payload_val}) Usage per Container\")\n",
    "            plt.ylabel(ylabel)\n",
    "            plt.xlabel(\"Container\")\n",
    "            plt.legend(loc='best', fontsize='small', ncol=4)\n",
    "            plt.xticks(rotation=45, ha='right', fontsize=6)\n",
    "            plt.tight_layout()\n",
    "            output_path = os.path.join(output_dir, f\"control_plane_{metric}_{qps_val}_{payload_val}.png\")\n",
    "            plt.savefig(output_path)\n",
    "            plt.close()\n",
    "            print(f\"Saved Control Plane {metric_title} QPS {qps_val} {payload_val} plot to\", output_path)\n",
    "            \n",
    "            # --- Data Plane Plot ---\n",
    "            max_dp = df_subset_dp.groupby(['namespace', 'pod', 'container'])[metric].max()\n",
    "            labels_dp = [shorten_label(ns, pod, c) for ns, pod, c in max_dp.index]\n",
    "            max_dp.index = labels_dp\n",
    "            plt.figure(figsize=(15, 10))\n",
    "            max_dp.plot(kind='bar', color='tab:orange')\n",
    "            plt.title(f\"HTTP Max Throughput: Data Plane Max {metric_title} (qps = {qps_val}, payload = {payload_val}) Usage per Container\")\n",
    "            plt.ylabel(ylabel)\n",
    "            plt.xlabel(\"Container\")\n",
    "            plt.xticks(rotation=45, ha='right')\n",
    "            plt.tight_layout()\n",
    "            output_path = os.path.join(output_dir, f\"data_plane_{metric}_{qps_val}_{payload_val}.png\")\n",
    "            plt.savefig(output_path)\n",
    "            plt.close()\n",
    "            print(f\"Saved Data Plane {metric_title} QPS {qps_val} {payload_val} plot to\", output_path)"
   ]
  },
  {
   "cell_type": "code",
   "execution_count": 7,
   "metadata": {},
   "outputs": [
    {
     "name": "stdout",
     "output_type": "stream",
     "text": [
      "Saved Global CPU QPS 0 0 plot to ../diagrams/04_grpc_max_throughput/global_cpu_0_0.png\n",
      "Saved Control Plane CPU QPS 0 0 plot to ../diagrams/04_grpc_max_throughput/control_plane_cpu_0_0.png\n",
      "Saved Data Plane CPU QPS 0 0 plot to ../diagrams/04_grpc_max_throughput/data_plane_cpu_0_0.png\n",
      "Saved Global Memory QPS 0 0 plot to ../diagrams/04_grpc_max_throughput/global_memory_0_0.png\n",
      "Saved Control Plane Memory QPS 0 0 plot to ../diagrams/04_grpc_max_throughput/control_plane_memory_0_0.png\n",
      "Saved Data Plane Memory QPS 0 0 plot to ../diagrams/04_grpc_max_throughput/data_plane_memory_0_0.png\n"
     ]
    },
    {
     "data": {
      "text/plain": [
       "<Figure size 1500x1000 with 0 Axes>"
      ]
     },
     "metadata": {},
     "output_type": "display_data"
    },
    {
     "data": {
      "text/plain": [
       "<Figure size 1500x1000 with 0 Axes>"
      ]
     },
     "metadata": {},
     "output_type": "display_data"
    }
   ],
   "source": [
    "# %% [code] Process 04_grpc_max_throughput experiment data and plot per container (using payload)\n",
    "\n",
    "# Set paths for the results and output diagrams directories\n",
    "experiment_dir = os.path.join(\"..\", \"results\", \"04_grpc_max_throughput\")\n",
    "output_dir  = os.path.join(\"..\", \"diagrams\", \"04_grpc_max_throughput\")\n",
    "csv_files = glob.glob(os.path.join(experiment_dir, 'metrics_*.csv'))\n",
    "os.makedirs(output_dir, exist_ok=True)\n",
    "\n",
    "if not csv_files:\n",
    "    print(\"No CSV files found in:\", experiment_dir)\n",
    "else:\n",
    "    # Load each CSV and extract additional parameters (mesh, qps, payload)\n",
    "    df_list = []\n",
    "    for file in csv_files:\n",
    "        df = load_metrics_csv(file)\n",
    "        mesh, qps, payload = extract_mesh_qps_payload(file)\n",
    "        df['mesh'] = mesh\n",
    "        df['qps'] = qps\n",
    "        df['payload'] = payload\n",
    "        df_list.append(df)\n",
    "    df_exp = pd.concat(df_list, ignore_index=True)\n",
    "    \n",
    "    # Identify unique qps and payload values\n",
    "    unique_qps = sorted(df_exp['qps'].dropna().unique())\n",
    "    unique_payload = sorted(df_exp['payload'].dropna().unique())\n",
    "    qps_val = unique_qps[0] if unique_qps else None\n",
    "    for payload_val in unique_payload:\n",
    "        df_subset = df_exp[df_exp['payload'] == payload_val]\n",
    "        df_subset_cp = df_subset[df_exp['group'] == 'control-plane']\n",
    "        df_subset_dp = df_subset[df_exp['group'] == 'data-plane']\n",
    "\n",
    "        for metric, ylabel in [('cpu', \"CPU Usage (millicore)\"), ('memory', \"Memory Usage (MB)\")]:\n",
    "            metric_title = \"CPU\" if metric == \"cpu\" else \"Memory\"\n",
    "\n",
    "            # --- Global Plot ---\n",
    "            max_global = df_subset.groupby(['namespace', 'pod', 'container'])[metric].max()\n",
    "            labels_global = [shorten_label(ns, pod, c) for ns, pod, c in max_global.index]\n",
    "            max_global.index = labels_global    \n",
    "            plt.figure(figsize=(15, 10))\n",
    "            max_global.plot(kind='bar', color='tab:orange')\n",
    "            plt.title(f\"gRPC Max Throughput: Max {metric_title} (qps = {qps_val}, payload = {payload_val}) Usage per Container\")\n",
    "            plt.ylabel(ylabel)\n",
    "            plt.xlabel(\"Container\")\n",
    "            plt.xticks(rotation=45, ha='right')\n",
    "            plt.tight_layout()\n",
    "            output_path = os.path.join(output_dir, f\"global_{metric}_{qps_val}_{payload_val}.png\")\n",
    "            plt.savefig(output_path)\n",
    "            plt.close()\n",
    "            print(f\"Saved Global {metric_title} QPS {qps_val} {payload_val} plot to\", output_path)\n",
    "\n",
    "            # --- Control Plane Stacked Plot ---\n",
    "            agg_cp = df_subset_cp.groupby(['namespace', 'pod', 'container'])[metric].max().reset_index()\n",
    "            cp_pivot = agg_cp.pivot_table(index=['namespace', 'pod'], columns='container', values=metric, fill_value=0)       \n",
    "            plt.figure(figsize=(15, 10))\n",
    "            cp_pivot.plot(kind='bar', stacked=True)\n",
    "            plt.title(f\"gRPC Max Throughput: Control Plane Max {metric_title} (qps = {qps_val}, payload = {payload_val}) Usage per Container\")\n",
    "            plt.ylabel(ylabel)\n",
    "            plt.xlabel(\"Container\")\n",
    "            plt.legend(loc='best', fontsize='small', ncol=4)\n",
    "            plt.xticks(rotation=45, ha='right', fontsize=6)\n",
    "            plt.tight_layout()\n",
    "            output_path = os.path.join(output_dir, f\"control_plane_{metric}_{qps_val}_{payload_val}.png\")\n",
    "            plt.savefig(output_path)\n",
    "            plt.close()\n",
    "            print(f\"Saved Control Plane {metric_title} QPS {qps_val} {payload_val} plot to\", output_path)\n",
    "            \n",
    "            # --- Data Plane Plot ---\n",
    "            max_dp = df_subset_dp.groupby(['namespace', 'pod', 'container'])[metric].max()\n",
    "            labels_dp = [shorten_label(ns, pod, c) for ns, pod, c in max_dp.index]\n",
    "            max_dp.index = labels_dp\n",
    "            plt.figure(figsize=(15, 10))\n",
    "            max_dp.plot(kind='bar', color='tab:orange')\n",
    "            plt.title(f\"gRPC Max Throughput: Data Plane Max {metric_title} (qps = {qps_val}, payload = {payload_val}) Usage per Container\")\n",
    "            plt.ylabel(ylabel)\n",
    "            plt.xlabel(\"Container\")\n",
    "            plt.xticks(rotation=45, ha='right')\n",
    "            plt.tight_layout()\n",
    "            output_path = os.path.join(output_dir, f\"data_plane_{metric}_{qps_val}_{payload_val}.png\")\n",
    "            plt.savefig(output_path)\n",
    "            plt.close()\n",
    "            print(f\"Saved Data Plane {metric_title} QPS {qps_val} {payload_val} plot to\", output_path)"
   ]
  },
  {
   "cell_type": "code",
   "execution_count": null,
   "metadata": {},
   "outputs": [
    {
     "ename": "NameError",
     "evalue": "name 'os' is not defined",
     "output_type": "error",
     "traceback": [
      "\u001b[31m---------------------------------------------------------------------------\u001b[39m",
      "\u001b[31mNameError\u001b[39m                                 Traceback (most recent call last)",
      "\u001b[36mCell\u001b[39m\u001b[36m \u001b[39m\u001b[32mIn[1]\u001b[39m\u001b[32m, line 4\u001b[39m\n\u001b[32m      1\u001b[39m \u001b[38;5;66;03m# %% [code] Process 05_http_constant_throughput_header experiment data and generate aggregated and stacked diagrams\u001b[39;00m\n\u001b[32m      2\u001b[39m \n\u001b[32m      3\u001b[39m \u001b[38;5;66;03m# Set path to the 05_http_constant_throughput_header experiment directory\u001b[39;00m\n\u001b[32m----> \u001b[39m\u001b[32m4\u001b[39m experiment_dir = \u001b[43mos\u001b[49m.path.join(\u001b[33m\"\u001b[39m\u001b[33m..\u001b[39m\u001b[33m\"\u001b[39m, \u001b[33m\"\u001b[39m\u001b[33mresults\u001b[39m\u001b[33m\"\u001b[39m, \u001b[33m\"\u001b[39m\u001b[33m05_http_constant_throughput_header\u001b[39m\u001b[33m\"\u001b[39m)\n\u001b[32m      5\u001b[39m output_dir = os.path.join(\u001b[33m\"\u001b[39m\u001b[33m..\u001b[39m\u001b[33m\"\u001b[39m, \u001b[33m\"\u001b[39m\u001b[33mdiagrams\u001b[39m\u001b[33m\"\u001b[39m, \u001b[33m\"\u001b[39m\u001b[33m05_http_constant_throughput_header\u001b[39m\u001b[33m\"\u001b[39m)\n\u001b[32m      6\u001b[39m csv_files = glob.glob(os.path.join(experiment_dir, \u001b[33m'\u001b[39m\u001b[33mmetrics_*.csv\u001b[39m\u001b[33m'\u001b[39m))\n",
      "\u001b[31mNameError\u001b[39m: name 'os' is not defined"
     ]
    }
   ],
   "source": [
    "# %% [code] Process 05_http_constant_throughput_header experiment data and generate aggregated and stacked diagrams\n",
    "\n",
    "# Set path to the 05_http_constant_throughput_header experiment directory\n",
    "experiment_dir = os.path.join(\"..\", \"results\", \"05_http_constant_throughput_header\")\n",
    "output_dir = os.path.join(\"..\", \"diagrams\", \"05_http_constant_throughput_header\")\n",
    "csv_files = glob.glob(os.path.join(experiment_dir, 'metrics_*.csv'))\n",
    "os.makedirs(output_dir, exist_ok=True)\n",
    "\n",
    "if not csv_files:\n",
    "    print(\"No CSV files found in:\", experiment_dir)\n",
    "else:\n",
    "    # Load and combine all CSV files\n",
    "    df_list = [load_metrics_csv(file) for file in csv_files]\n",
    "    df_exp = pd.concat(df_list, ignore_index=True)\n",
    "    # Drop rows with NaN values in CPU or memory\n",
    "    df_exp = df_exp.dropna(subset=['cpu', 'memory'])\n",
    "    # Group data based on the control-plane only.\n",
    "    df_cp = df_exp[df_exp['group'] == 'control-plane'].copy()\n",
    "    # Group data based on the data-plane only.\n",
    "    df_dp = df_exp[df_exp['group'] == 'data-plane'].copy()\n",
    "    # Aggregate overall statistics per namespace/pod/container.\n",
    "    agg_stats = df_exp.groupby(['namespace', 'pod', 'container'])[['cpu', 'memory']].agg(['mean', 'median', 'std'])\n",
    "    print(\"Aggregated stats for 05_http_constant_throughput_header:\")\n",
    "    print(agg_stats)\n",
    "\n",
    "    for metric, ylabel in [('cpu', \"CPU Usage (millicore)\"), ('memory', \"Memory Usage (MB)\")]:\n",
    "        max_metric = df_exp.groupby(['namespace', 'pod', 'container'])[metric].max()\n",
    "        labels = [shorten_label(ns, pod, c) for ns, pod, c in max_metric.index]\n",
    "        metric_title = \"CPU\" if metric == \"cpu\" else \"Memory\"\n",
    "\n",
    "        # --- Global Plot ---\n",
    "        max_global = df_exp.groupby(['namespace', 'pod', 'container'])[metric].max()\n",
    "        labels_global = [shorten_label(ns, pod, c) for ns, pod, c in max_global.index]\n",
    "        max_global.index = labels_global    \n",
    "        plt.figure(figsize=(15, 10))\n",
    "        max_global.plot(kind='bar', color='tab:orange')\n",
    "        plt.title(f\"HTTP Max Throughput: Max {metric_title} Usage per Container\")\n",
    "        plt.ylabel(ylabel)\n",
    "        plt.xticks(rotation=45, ha='right')\n",
    "        plt.tight_layout()\n",
    "        output_path = os.path.join(output_dir, f\"global_{metric}_0.png\")\n",
    "        plt.savefig(output_path)\n",
    "        plt.close()\n",
    "        print(f\"Saved Global {metric_title} plot to\", output_path)\n",
    "\n",
    "        # --- Control Plane Stacked Plot ---\n",
    "        agg_cp = df_cp.groupby(['namespace', 'pod', 'container'])[metric].max().reset_index()\n",
    "        cp_pivot = agg_cp.pivot_table(index=['namespace', 'pod'], columns='container', values=metric, fill_value=0)       \n",
    "        plt.figure(figsize=(15, 10))\n",
    "        cp_pivot.plot(kind='bar', stacked=True)\n",
    "        plt.title(f\"HTTP Max Throughput: Control Plane Max {metric_title} Usage per Container\")\n",
    "        plt.ylabel(ylabel)\n",
    "        plt.legend(loc='best', fontsize='small', ncol=4)\n",
    "        plt.xticks(rotation=45, ha='right', fontsize=6)\n",
    "        plt.tight_layout()\n",
    "        output_path = os.path.join(output_dir, f\"control_plane_{metric}_0.png\")\n",
    "        plt.savefig(output_path)\n",
    "        plt.close()\n",
    "        print(f\"Saved Control Plane {metric_title} stacked plot to\", output_path)\n",
    "        \n",
    "        # --- Data Plane Plot ---\n",
    "        max_dp = df_dp.groupby(['namespace', 'pod', 'container'])[metric].max()\n",
    "        labels_dp = [shorten_label(ns, pod, c) for ns, pod, c in max_dp.index]\n",
    "        max_dp.index = labels_dp\n",
    "        plt.figure(figsize=(15, 10))\n",
    "        max_dp.plot(kind='bar', color='tab:orange')\n",
    "        plt.title(f\"HTTP Max Throughput: Data Plane Max {metric_title} Usage per Container\")\n",
    "        plt.ylabel(ylabel)\n",
    "        plt.xticks(rotation=45, ha='right')\n",
    "        plt.tight_layout()\n",
    "        output_path = os.path.join(output_dir, f\"data_plane_{metric}_0.png\")\n",
    "        plt.savefig(output_path)\n",
    "        plt.close()\n",
    "        print(f\"Saved Data Plane {metric_title} plot to\", output_path)"
   ]
  }
 ],
 "metadata": {
  "kernelspec": {
   "display_name": ".venv",
   "language": "python",
   "name": "python3"
  },
  "language_info": {
   "codemirror_mode": {
    "name": "ipython",
    "version": 3
   },
   "file_extension": ".py",
   "mimetype": "text/x-python",
   "name": "python",
   "nbconvert_exporter": "python",
   "pygments_lexer": "ipython3",
   "version": "3.12.8"
  }
 },
 "nbformat": 4,
 "nbformat_minor": 2
}
